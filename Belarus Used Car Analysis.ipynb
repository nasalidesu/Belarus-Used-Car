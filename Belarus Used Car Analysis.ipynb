{
  "nbformat": 4,
  "nbformat_minor": 0,
  "metadata": {
    "colab": {
      "name": "Belarus Used Car Analysis.ipynb",
      "provenance": [],
      "collapsed_sections": [
        "RzcJ5cGzOJsa",
        "8NizUT1YcxEK",
        "aW9aOlyHqwEk"
      ],
      "toc_visible": true,
      "mount_file_id": "1GtPKHqSXU4QrEK5RjdzYOkdmC9nPFiwx",
      "authorship_tag": "ABX9TyMzseedVt/XXEVvoUG0XH+x",
      "include_colab_link": true
    },
    "kernelspec": {
      "name": "python3",
      "display_name": "Python 3"
    },
    "language_info": {
      "name": "python"
    }
  },
  "cells": [
    {
      "cell_type": "markdown",
      "metadata": {
        "id": "view-in-github",
        "colab_type": "text"
      },
      "source": [
        "<a href=\"https://colab.research.google.com/github/nasalidesu/silver-adventure/blob/main/Assignment_BDA_Nasali_1815091.ipynb\" target=\"_parent\"><img src=\"https://colab.research.google.com/assets/colab-badge.svg\" alt=\"Open In Colab\"/></a>"
      ]
    },
    {
      "cell_type": "markdown",
      "metadata": {
        "id": "bkneKpt9rWNB"
      },
      "source": [
        "Big Data Analytic\n",
        "\n",
        "> Prepared by : AHMAD NASALI BIN ABD MANAF | nasalicisco@gmail.com\n",
        "\n",
        "> Analysis on Belarus Used Car dataset \n"
      ]
    },
    {
      "cell_type": "code",
      "metadata": {
        "id": "i8V1T5jwqlz3"
      },
      "source": [
        "import pandas as pd\n",
        "import matplotlib.pyplot as plt\n",
        "import numpy as np\n",
        "import seaborn as sns\n",
        "import plotly.express as px"
      ],
      "execution_count": null,
      "outputs": []
    },
    {
      "cell_type": "code",
      "metadata": {
        "id": "E0etqRHRRdmn",
        "colab": {
          "base_uri": "https://localhost:8080/"
        },
        "outputId": "0be50a5d-17fc-4c7e-ef4f-b2d1a9887ad9"
      },
      "source": [
        "pip install plotly --upgrade # some error in path so need upgrade plotly express to enable the plotting the treemap"
      ],
      "execution_count": null,
      "outputs": [
        {
          "output_type": "stream",
          "text": [
            "Requirement already up-to-date: plotly in /usr/local/lib/python3.7/dist-packages (4.14.3)\n",
            "Requirement already satisfied, skipping upgrade: six in /usr/local/lib/python3.7/dist-packages (from plotly) (1.15.0)\n",
            "Requirement already satisfied, skipping upgrade: retrying>=1.3.3 in /usr/local/lib/python3.7/dist-packages (from plotly) (1.3.3)\n"
          ],
          "name": "stdout"
        }
      ]
    },
    {
      "cell_type": "code",
      "metadata": {
        "colab": {
          "base_uri": "https://localhost:8080/",
          "height": 224
        },
        "id": "NNjGQswBrD-I",
        "outputId": "b35a2fe1-8ad0-4be5-fe08-0222d1c9e17e"
      },
      "source": [
        "df = pd.read_csv(\"/content/drive/MyDrive/Colab Notebooks/dataset/cars.csv\")\n",
        "df.head()"
      ],
      "execution_count": null,
      "outputs": [
        {
          "output_type": "execute_result",
          "data": {
            "text/html": [
              "<div>\n",
              "<style scoped>\n",
              "    .dataframe tbody tr th:only-of-type {\n",
              "        vertical-align: middle;\n",
              "    }\n",
              "\n",
              "    .dataframe tbody tr th {\n",
              "        vertical-align: top;\n",
              "    }\n",
              "\n",
              "    .dataframe thead th {\n",
              "        text-align: right;\n",
              "    }\n",
              "</style>\n",
              "<table border=\"1\" class=\"dataframe\">\n",
              "  <thead>\n",
              "    <tr style=\"text-align: right;\">\n",
              "      <th></th>\n",
              "      <th>manufacturer_name</th>\n",
              "      <th>model_name</th>\n",
              "      <th>transmission</th>\n",
              "      <th>color</th>\n",
              "      <th>odometer_value</th>\n",
              "      <th>year_produced</th>\n",
              "      <th>engine_fuel</th>\n",
              "      <th>engine_has_gas</th>\n",
              "      <th>engine_type</th>\n",
              "      <th>engine_capacity</th>\n",
              "      <th>body_type</th>\n",
              "      <th>has_warranty</th>\n",
              "      <th>state</th>\n",
              "      <th>drivetrain</th>\n",
              "      <th>price_usd</th>\n",
              "      <th>is_exchangeable</th>\n",
              "      <th>location_region</th>\n",
              "      <th>number_of_photos</th>\n",
              "      <th>up_counter</th>\n",
              "      <th>feature_0</th>\n",
              "      <th>feature_1</th>\n",
              "      <th>feature_2</th>\n",
              "      <th>feature_3</th>\n",
              "      <th>feature_4</th>\n",
              "      <th>feature_5</th>\n",
              "      <th>feature_6</th>\n",
              "      <th>feature_7</th>\n",
              "      <th>feature_8</th>\n",
              "      <th>feature_9</th>\n",
              "      <th>duration_listed</th>\n",
              "    </tr>\n",
              "  </thead>\n",
              "  <tbody>\n",
              "    <tr>\n",
              "      <th>0</th>\n",
              "      <td>Subaru</td>\n",
              "      <td>Outback</td>\n",
              "      <td>automatic</td>\n",
              "      <td>silver</td>\n",
              "      <td>190000</td>\n",
              "      <td>2010</td>\n",
              "      <td>gasoline</td>\n",
              "      <td>False</td>\n",
              "      <td>gasoline</td>\n",
              "      <td>2.5</td>\n",
              "      <td>universal</td>\n",
              "      <td>False</td>\n",
              "      <td>owned</td>\n",
              "      <td>all</td>\n",
              "      <td>10900.00</td>\n",
              "      <td>False</td>\n",
              "      <td>Минская обл.</td>\n",
              "      <td>9</td>\n",
              "      <td>13</td>\n",
              "      <td>False</td>\n",
              "      <td>True</td>\n",
              "      <td>True</td>\n",
              "      <td>True</td>\n",
              "      <td>False</td>\n",
              "      <td>True</td>\n",
              "      <td>False</td>\n",
              "      <td>True</td>\n",
              "      <td>True</td>\n",
              "      <td>True</td>\n",
              "      <td>16</td>\n",
              "    </tr>\n",
              "    <tr>\n",
              "      <th>1</th>\n",
              "      <td>Subaru</td>\n",
              "      <td>Outback</td>\n",
              "      <td>automatic</td>\n",
              "      <td>blue</td>\n",
              "      <td>290000</td>\n",
              "      <td>2002</td>\n",
              "      <td>gasoline</td>\n",
              "      <td>False</td>\n",
              "      <td>gasoline</td>\n",
              "      <td>3.0</td>\n",
              "      <td>universal</td>\n",
              "      <td>False</td>\n",
              "      <td>owned</td>\n",
              "      <td>all</td>\n",
              "      <td>5000.00</td>\n",
              "      <td>True</td>\n",
              "      <td>Минская обл.</td>\n",
              "      <td>12</td>\n",
              "      <td>54</td>\n",
              "      <td>False</td>\n",
              "      <td>True</td>\n",
              "      <td>False</td>\n",
              "      <td>False</td>\n",
              "      <td>True</td>\n",
              "      <td>True</td>\n",
              "      <td>False</td>\n",
              "      <td>False</td>\n",
              "      <td>False</td>\n",
              "      <td>True</td>\n",
              "      <td>83</td>\n",
              "    </tr>\n",
              "    <tr>\n",
              "      <th>2</th>\n",
              "      <td>Subaru</td>\n",
              "      <td>Forester</td>\n",
              "      <td>automatic</td>\n",
              "      <td>red</td>\n",
              "      <td>402000</td>\n",
              "      <td>2001</td>\n",
              "      <td>gasoline</td>\n",
              "      <td>False</td>\n",
              "      <td>gasoline</td>\n",
              "      <td>2.5</td>\n",
              "      <td>suv</td>\n",
              "      <td>False</td>\n",
              "      <td>owned</td>\n",
              "      <td>all</td>\n",
              "      <td>2800.00</td>\n",
              "      <td>True</td>\n",
              "      <td>Минская обл.</td>\n",
              "      <td>4</td>\n",
              "      <td>72</td>\n",
              "      <td>False</td>\n",
              "      <td>True</td>\n",
              "      <td>False</td>\n",
              "      <td>False</td>\n",
              "      <td>False</td>\n",
              "      <td>False</td>\n",
              "      <td>False</td>\n",
              "      <td>False</td>\n",
              "      <td>True</td>\n",
              "      <td>True</td>\n",
              "      <td>151</td>\n",
              "    </tr>\n",
              "    <tr>\n",
              "      <th>3</th>\n",
              "      <td>Subaru</td>\n",
              "      <td>Impreza</td>\n",
              "      <td>mechanical</td>\n",
              "      <td>blue</td>\n",
              "      <td>10000</td>\n",
              "      <td>1999</td>\n",
              "      <td>gasoline</td>\n",
              "      <td>False</td>\n",
              "      <td>gasoline</td>\n",
              "      <td>3.0</td>\n",
              "      <td>sedan</td>\n",
              "      <td>False</td>\n",
              "      <td>owned</td>\n",
              "      <td>all</td>\n",
              "      <td>9999.00</td>\n",
              "      <td>True</td>\n",
              "      <td>Минская обл.</td>\n",
              "      <td>9</td>\n",
              "      <td>42</td>\n",
              "      <td>True</td>\n",
              "      <td>False</td>\n",
              "      <td>False</td>\n",
              "      <td>False</td>\n",
              "      <td>False</td>\n",
              "      <td>False</td>\n",
              "      <td>False</td>\n",
              "      <td>False</td>\n",
              "      <td>False</td>\n",
              "      <td>False</td>\n",
              "      <td>86</td>\n",
              "    </tr>\n",
              "    <tr>\n",
              "      <th>4</th>\n",
              "      <td>Subaru</td>\n",
              "      <td>Legacy</td>\n",
              "      <td>automatic</td>\n",
              "      <td>black</td>\n",
              "      <td>280000</td>\n",
              "      <td>2001</td>\n",
              "      <td>gasoline</td>\n",
              "      <td>False</td>\n",
              "      <td>gasoline</td>\n",
              "      <td>2.5</td>\n",
              "      <td>universal</td>\n",
              "      <td>False</td>\n",
              "      <td>owned</td>\n",
              "      <td>all</td>\n",
              "      <td>2134.11</td>\n",
              "      <td>True</td>\n",
              "      <td>Гомельская обл.</td>\n",
              "      <td>14</td>\n",
              "      <td>7</td>\n",
              "      <td>False</td>\n",
              "      <td>True</td>\n",
              "      <td>False</td>\n",
              "      <td>True</td>\n",
              "      <td>True</td>\n",
              "      <td>False</td>\n",
              "      <td>False</td>\n",
              "      <td>False</td>\n",
              "      <td>False</td>\n",
              "      <td>True</td>\n",
              "      <td>7</td>\n",
              "    </tr>\n",
              "  </tbody>\n",
              "</table>\n",
              "</div>"
            ],
            "text/plain": [
              "  manufacturer_name model_name  ... feature_9 duration_listed\n",
              "0            Subaru    Outback  ...      True              16\n",
              "1            Subaru    Outback  ...      True              83\n",
              "2            Subaru   Forester  ...      True             151\n",
              "3            Subaru    Impreza  ...     False              86\n",
              "4            Subaru     Legacy  ...      True               7\n",
              "\n",
              "[5 rows x 30 columns]"
            ]
          },
          "metadata": {
            "tags": []
          },
          "execution_count": 110
        }
      ]
    },
    {
      "cell_type": "markdown",
      "metadata": {
        "id": "x5pmSsuu_8Ok"
      },
      "source": [
        "\n",
        "\n",
        "1.   what is the optimal range for odometer value for anyone before they want to sell their car ?\n",
        "2.   which brand is for used car is most and least popular?\n",
        "3.   How long the car is listed in the catalog?\n",
        "4.   if someone want to know  which car to buy for long term investment, which car brand has the highest resell values?\n",
        "5.   What is the forecast for used car price in future?\n",
        "\n"
      ]
    },
    {
      "cell_type": "markdown",
      "metadata": {
        "id": "CK4lW449MyTG"
      },
      "source": [
        "# Data preprocessing"
      ]
    },
    {
      "cell_type": "code",
      "metadata": {
        "colab": {
          "base_uri": "https://localhost:8080/"
        },
        "id": "edIJqIHirqVz",
        "outputId": "75b8e7a1-e67a-49ab-98c6-e7a02290c4be"
      },
      "source": [
        "df.dtypes # see the data types of each column, to see which column is suitable to do calculation"
      ],
      "execution_count": null,
      "outputs": [
        {
          "output_type": "execute_result",
          "data": {
            "text/plain": [
              "manufacturer_name     object\n",
              "model_name            object\n",
              "transmission          object\n",
              "color                 object\n",
              "odometer_value         int64\n",
              "year_produced          int64\n",
              "engine_fuel           object\n",
              "engine_has_gas          bool\n",
              "engine_type           object\n",
              "engine_capacity      float64\n",
              "body_type             object\n",
              "has_warranty            bool\n",
              "state                 object\n",
              "drivetrain            object\n",
              "price_usd            float64\n",
              "is_exchangeable         bool\n",
              "location_region       object\n",
              "number_of_photos       int64\n",
              "up_counter             int64\n",
              "feature_0               bool\n",
              "feature_1               bool\n",
              "feature_2               bool\n",
              "feature_3               bool\n",
              "feature_4               bool\n",
              "feature_5               bool\n",
              "feature_6               bool\n",
              "feature_7               bool\n",
              "feature_8               bool\n",
              "feature_9               bool\n",
              "duration_listed        int64\n",
              "dtype: object"
            ]
          },
          "metadata": {
            "tags": []
          },
          "execution_count": 111
        }
      ]
    },
    {
      "cell_type": "code",
      "metadata": {
        "colab": {
          "base_uri": "https://localhost:8080/"
        },
        "id": "hkYRHouQrTgE",
        "outputId": "c63212c9-7336-4299-bd50-8043685904a5"
      },
      "source": [
        "df.shape # the dimension/ how many columns and rows"
      ],
      "execution_count": null,
      "outputs": [
        {
          "output_type": "execute_result",
          "data": {
            "text/plain": [
              "(38531, 30)"
            ]
          },
          "metadata": {
            "tags": []
          },
          "execution_count": 112
        }
      ]
    },
    {
      "cell_type": "code",
      "metadata": {
        "colab": {
          "base_uri": "https://localhost:8080/"
        },
        "id": "lyt2ZSYDuq_I",
        "outputId": "8ea9f128-8831-4343-d1ce-8e9fea3691b1"
      },
      "source": [
        "df.isnull().sum() # check null values in each column"
      ],
      "execution_count": null,
      "outputs": [
        {
          "output_type": "execute_result",
          "data": {
            "text/plain": [
              "manufacturer_name     0\n",
              "model_name            0\n",
              "transmission          0\n",
              "color                 0\n",
              "odometer_value        0\n",
              "year_produced         0\n",
              "engine_fuel           0\n",
              "engine_has_gas        0\n",
              "engine_type           0\n",
              "engine_capacity      10\n",
              "body_type             0\n",
              "has_warranty          0\n",
              "state                 0\n",
              "drivetrain            0\n",
              "price_usd             0\n",
              "is_exchangeable       0\n",
              "location_region       0\n",
              "number_of_photos      0\n",
              "up_counter            0\n",
              "feature_0             0\n",
              "feature_1             0\n",
              "feature_2             0\n",
              "feature_3             0\n",
              "feature_4             0\n",
              "feature_5             0\n",
              "feature_6             0\n",
              "feature_7             0\n",
              "feature_8             0\n",
              "feature_9             0\n",
              "duration_listed       0\n",
              "dtype: int64"
            ]
          },
          "metadata": {
            "tags": []
          },
          "execution_count": 113
        }
      ]
    },
    {
      "cell_type": "markdown",
      "metadata": {
        "id": "h5RYZXrS6JAi"
      },
      "source": [
        "look there are null values in engine capaticty, so we drop them "
      ]
    },
    {
      "cell_type": "code",
      "metadata": {
        "id": "uLl5_C4l0707"
      },
      "source": [
        "df.dropna(inplace=True) # drop any null values in any column"
      ],
      "execution_count": null,
      "outputs": []
    },
    {
      "cell_type": "code",
      "metadata": {
        "colab": {
          "base_uri": "https://localhost:8080/"
        },
        "id": "Davz7HoF1J4I",
        "outputId": "5c7d4f6e-5007-457b-fe88-7ae0a9d6d062"
      },
      "source": [
        "df.isnull().sum() # check the null values again"
      ],
      "execution_count": null,
      "outputs": [
        {
          "output_type": "execute_result",
          "data": {
            "text/plain": [
              "manufacturer_name    0\n",
              "model_name           0\n",
              "transmission         0\n",
              "color                0\n",
              "odometer_value       0\n",
              "year_produced        0\n",
              "engine_fuel          0\n",
              "engine_has_gas       0\n",
              "engine_type          0\n",
              "engine_capacity      0\n",
              "body_type            0\n",
              "has_warranty         0\n",
              "state                0\n",
              "drivetrain           0\n",
              "price_usd            0\n",
              "is_exchangeable      0\n",
              "location_region      0\n",
              "number_of_photos     0\n",
              "up_counter           0\n",
              "feature_0            0\n",
              "feature_1            0\n",
              "feature_2            0\n",
              "feature_3            0\n",
              "feature_4            0\n",
              "feature_5            0\n",
              "feature_6            0\n",
              "feature_7            0\n",
              "feature_8            0\n",
              "feature_9            0\n",
              "duration_listed      0\n",
              "dtype: int64"
            ]
          },
          "metadata": {
            "tags": []
          },
          "execution_count": 115
        }
      ]
    },
    {
      "cell_type": "markdown",
      "metadata": {
        "id": "T7Z3d30QIXzP"
      },
      "source": [
        "The null values already dropped from the column engine capacity"
      ]
    },
    {
      "cell_type": "markdown",
      "metadata": {
        "id": "oEyj_0qD7h-I"
      },
      "source": [
        "Since most of tha data is potentially have meaningful duplicate value such brand, state,color, so its will not practical to drop any duplicate data since every row beside null values could  be meaningful."
      ]
    },
    {
      "cell_type": "markdown",
      "metadata": {
        "id": "S6WTis9PNh15"
      },
      "source": [
        "# Data Wrangling"
      ]
    },
    {
      "cell_type": "code",
      "metadata": {
        "colab": {
          "base_uri": "https://localhost:8080/"
        },
        "id": "V5KZzinxu6Hn",
        "outputId": "20011c2f-d3fe-43a2-a7d8-db166de5fa6d"
      },
      "source": [
        "df.nunique(axis=0) # see the unique values/data in each column"
      ],
      "execution_count": null,
      "outputs": [
        {
          "output_type": "execute_result",
          "data": {
            "text/plain": [
              "manufacturer_name      55\n",
              "model_name           1116\n",
              "transmission            2\n",
              "color                  12\n",
              "odometer_value       6060\n",
              "year_produced          64\n",
              "engine_fuel             5\n",
              "engine_has_gas          2\n",
              "engine_type             2\n",
              "engine_capacity        61\n",
              "body_type              12\n",
              "has_warranty            2\n",
              "state                   3\n",
              "drivetrain              3\n",
              "price_usd            2677\n",
              "is_exchangeable         2\n",
              "location_region         6\n",
              "number_of_photos       61\n",
              "up_counter            384\n",
              "feature_0               2\n",
              "feature_1               2\n",
              "feature_2               2\n",
              "feature_3               2\n",
              "feature_4               2\n",
              "feature_5               2\n",
              "feature_6               2\n",
              "feature_7               2\n",
              "feature_8               2\n",
              "feature_9               2\n",
              "duration_listed       786\n",
              "dtype: int64"
            ]
          },
          "metadata": {
            "tags": []
          },
          "execution_count": 116
        }
      ]
    },
    {
      "cell_type": "markdown",
      "metadata": {
        "id": "k6JE7XR05c4R"
      },
      "source": [
        "what are the  top 5 most occurence values in each column?"
      ]
    },
    {
      "cell_type": "code",
      "metadata": {
        "colab": {
          "base_uri": "https://localhost:8080/"
        },
        "id": "Gewxvf34zLuX",
        "outputId": "56a0bdf9-b3f4-4a94-a2ea-f40d47377559"
      },
      "source": [
        "for col in df.columns:\n",
        "  print(col,\" top unique values \",df[col].value_counts(sort=True).nlargest(5))\n",
        "  print(\"-------------------------------------------\")"
      ],
      "execution_count": null,
      "outputs": [
        {
          "output_type": "stream",
          "text": [
            "manufacturer_name  top unique values  Volkswagen    4243\n",
            "Opel          2759\n",
            "BMW           2608\n",
            "Ford          2566\n",
            "Renault       2493\n",
            "Name: manufacturer_name, dtype: int64\n",
            "-------------------------------------------\n",
            "model_name  top unique values  Passat    1423\n",
            "Astra      751\n",
            "Golf       707\n",
            "A6         687\n",
            "Mondeo     637\n",
            "Name: model_name, dtype: int64\n",
            "-------------------------------------------\n",
            "transmission  top unique values  mechanical    25633\n",
            "automatic     12888\n",
            "Name: transmission, dtype: int64\n",
            "-------------------------------------------\n",
            "color  top unique values  black     7703\n",
            "silver    6851\n",
            "blue      5801\n",
            "white     4209\n",
            "grey      3751\n",
            "Name: color, dtype: int64\n",
            "-------------------------------------------\n",
            "odometer_value  top unique values  300000    1794\n",
            "350000     959\n",
            "250000     940\n",
            "200000     775\n",
            "400000     742\n",
            "Name: odometer_value, dtype: int64\n",
            "-------------------------------------------\n",
            "year_produced  top unique values  1998    2218\n",
            "2008    2144\n",
            "1999    1879\n",
            "1997    1860\n",
            "2001    1845\n",
            "Name: year_produced, dtype: int64\n",
            "-------------------------------------------\n",
            "engine_fuel  top unique values  gasoline         24065\n",
            "diesel           12872\n",
            "gas               1347\n",
            "hybrid-petrol      235\n",
            "hybrid-diesel        2\n",
            "Name: engine_fuel, dtype: int64\n",
            "-------------------------------------------\n",
            "engine_has_gas  top unique values  False    37174\n",
            "True      1347\n",
            "Name: engine_has_gas, dtype: int64\n",
            "-------------------------------------------\n",
            "engine_type  top unique values  gasoline    25647\n",
            "diesel      12874\n",
            "Name: engine_type, dtype: int64\n",
            "-------------------------------------------\n",
            "engine_capacity  top unique values  2.0    7670\n",
            "1.6    6188\n",
            "1.8    4244\n",
            "2.5    2520\n",
            "1.4    2394\n",
            "Name: engine_capacity, dtype: int64\n",
            "-------------------------------------------\n",
            "body_type  top unique values  sedan        13011\n",
            "hatchback     7636\n",
            "universal     5507\n",
            "suv           5164\n",
            "minivan       3608\n",
            "Name: body_type, dtype: int64\n",
            "-------------------------------------------\n",
            "has_warranty  top unique values  False    38072\n",
            "True       449\n",
            "Name: has_warranty, dtype: int64\n",
            "-------------------------------------------\n",
            "state  top unique values  owned        37713\n",
            "new            438\n",
            "emergency      370\n",
            "Name: state, dtype: int64\n",
            "-------------------------------------------\n",
            "drivetrain  top unique values  front    27738\n",
            "rear      5396\n",
            "all       5387\n",
            "Name: drivetrain, dtype: int64\n",
            "-------------------------------------------\n",
            "price_usd  top unique values  1500.0    637\n",
            "3500.0    568\n",
            "2000.0    561\n",
            "1000.0    552\n",
            "2500.0    546\n",
            "Name: price_usd, dtype: int64\n",
            "-------------------------------------------\n",
            "is_exchangeable  top unique values  False    24939\n",
            "True     13582\n",
            "Name: is_exchangeable, dtype: int64\n",
            "-------------------------------------------\n",
            "location_region  top unique values  Минская обл.        24221\n",
            "Гомельская обл.      3140\n",
            "Витебская обл.       3007\n",
            "Брестская обл.       2990\n",
            "Могилевская обл.     2678\n",
            "Name: location_region, dtype: int64\n",
            "-------------------------------------------\n",
            "number_of_photos  top unique values  6    3651\n",
            "7    3376\n",
            "5    3372\n",
            "8    3189\n",
            "4    2869\n",
            "Name: number_of_photos, dtype: int64\n",
            "-------------------------------------------\n",
            "up_counter  top unique values  1    7997\n",
            "2    5191\n",
            "3    2910\n",
            "4    2070\n",
            "5    1704\n",
            "Name: up_counter, dtype: int64\n",
            "-------------------------------------------\n",
            "feature_0  top unique values  False    29715\n",
            "True      8806\n",
            "Name: feature_0, dtype: int64\n",
            "-------------------------------------------\n",
            "feature_1  top unique values  True     23389\n",
            "False    15132\n",
            "Name: feature_1, dtype: int64\n",
            "-------------------------------------------\n",
            "feature_2  top unique values  False    29900\n",
            "True      8621\n",
            "Name: feature_2, dtype: int64\n",
            "-------------------------------------------\n",
            "feature_3  top unique values  False    27901\n",
            "True     10620\n",
            "Name: feature_3, dtype: int64\n",
            "-------------------------------------------\n",
            "feature_4  top unique values  False    29220\n",
            "True      9301\n",
            "Name: feature_4, dtype: int64\n",
            "-------------------------------------------\n",
            "feature_5  top unique values  False    24809\n",
            "True     13712\n",
            "Name: feature_5, dtype: int64\n",
            "-------------------------------------------\n",
            "feature_6  top unique values  False    31938\n",
            "True      6583\n",
            "Name: feature_6, dtype: int64\n",
            "-------------------------------------------\n",
            "feature_7  top unique values  False    28369\n",
            "True     10152\n",
            "Name: feature_7, dtype: int64\n",
            "-------------------------------------------\n",
            "feature_8  top unique values  False    22526\n",
            "True     15995\n",
            "Name: feature_8, dtype: int64\n",
            "-------------------------------------------\n",
            "feature_9  top unique values  True     22316\n",
            "False    16205\n",
            "Name: feature_9, dtype: int64\n",
            "-------------------------------------------\n",
            "duration_listed  top unique values  57    680\n",
            "1     653\n",
            "2     642\n",
            "3     553\n",
            "91    536\n",
            "Name: duration_listed, dtype: int64\n",
            "-------------------------------------------\n"
          ],
          "name": "stdout"
        }
      ]
    },
    {
      "cell_type": "markdown",
      "metadata": {
        "id": "nZKj8b805j4M"
      },
      "source": [
        "summarize the numeric column to mean, std, mic, max"
      ]
    },
    {
      "cell_type": "code",
      "metadata": {
        "colab": {
          "base_uri": "https://localhost:8080/",
          "height": 297
        },
        "id": "Pd2QfAtjrYLO",
        "outputId": "b10d7658-e7c6-43c6-93f7-54e2e81c4dab"
      },
      "source": [
        "df.describe()"
      ],
      "execution_count": null,
      "outputs": [
        {
          "output_type": "execute_result",
          "data": {
            "text/html": [
              "<div>\n",
              "<style scoped>\n",
              "    .dataframe tbody tr th:only-of-type {\n",
              "        vertical-align: middle;\n",
              "    }\n",
              "\n",
              "    .dataframe tbody tr th {\n",
              "        vertical-align: top;\n",
              "    }\n",
              "\n",
              "    .dataframe thead th {\n",
              "        text-align: right;\n",
              "    }\n",
              "</style>\n",
              "<table border=\"1\" class=\"dataframe\">\n",
              "  <thead>\n",
              "    <tr style=\"text-align: right;\">\n",
              "      <th></th>\n",
              "      <th>odometer_value</th>\n",
              "      <th>year_produced</th>\n",
              "      <th>engine_capacity</th>\n",
              "      <th>price_usd</th>\n",
              "      <th>number_of_photos</th>\n",
              "      <th>up_counter</th>\n",
              "      <th>duration_listed</th>\n",
              "    </tr>\n",
              "  </thead>\n",
              "  <tbody>\n",
              "    <tr>\n",
              "      <th>count</th>\n",
              "      <td>38521.000000</td>\n",
              "      <td>38521.000000</td>\n",
              "      <td>38521.000000</td>\n",
              "      <td>38521.000000</td>\n",
              "      <td>38521.000000</td>\n",
              "      <td>38521.000000</td>\n",
              "      <td>38521.000000</td>\n",
              "    </tr>\n",
              "    <tr>\n",
              "      <th>mean</th>\n",
              "      <td>248910.074427</td>\n",
              "      <td>2002.940863</td>\n",
              "      <td>2.055161</td>\n",
              "      <td>6637.160884</td>\n",
              "      <td>9.648062</td>\n",
              "      <td>16.306586</td>\n",
              "      <td>80.584616</td>\n",
              "    </tr>\n",
              "    <tr>\n",
              "      <th>std</th>\n",
              "      <td>136059.499858</td>\n",
              "      <td>8.064761</td>\n",
              "      <td>0.671178</td>\n",
              "      <td>6425.198996</td>\n",
              "      <td>6.092860</td>\n",
              "      <td>43.291786</td>\n",
              "      <td>112.838577</td>\n",
              "    </tr>\n",
              "    <tr>\n",
              "      <th>min</th>\n",
              "      <td>0.000000</td>\n",
              "      <td>1942.000000</td>\n",
              "      <td>0.200000</td>\n",
              "      <td>1.000000</td>\n",
              "      <td>1.000000</td>\n",
              "      <td>1.000000</td>\n",
              "      <td>0.000000</td>\n",
              "    </tr>\n",
              "    <tr>\n",
              "      <th>25%</th>\n",
              "      <td>158000.000000</td>\n",
              "      <td>1998.000000</td>\n",
              "      <td>1.600000</td>\n",
              "      <td>2100.000000</td>\n",
              "      <td>5.000000</td>\n",
              "      <td>2.000000</td>\n",
              "      <td>23.000000</td>\n",
              "    </tr>\n",
              "    <tr>\n",
              "      <th>50%</th>\n",
              "      <td>250000.000000</td>\n",
              "      <td>2003.000000</td>\n",
              "      <td>2.000000</td>\n",
              "      <td>4800.000000</td>\n",
              "      <td>8.000000</td>\n",
              "      <td>5.000000</td>\n",
              "      <td>59.000000</td>\n",
              "    </tr>\n",
              "    <tr>\n",
              "      <th>75%</th>\n",
              "      <td>325000.000000</td>\n",
              "      <td>2009.000000</td>\n",
              "      <td>2.300000</td>\n",
              "      <td>8950.000000</td>\n",
              "      <td>12.000000</td>\n",
              "      <td>16.000000</td>\n",
              "      <td>91.000000</td>\n",
              "    </tr>\n",
              "    <tr>\n",
              "      <th>max</th>\n",
              "      <td>1000000.000000</td>\n",
              "      <td>2019.000000</td>\n",
              "      <td>8.000000</td>\n",
              "      <td>50000.000000</td>\n",
              "      <td>86.000000</td>\n",
              "      <td>1861.000000</td>\n",
              "      <td>2232.000000</td>\n",
              "    </tr>\n",
              "  </tbody>\n",
              "</table>\n",
              "</div>"
            ],
            "text/plain": [
              "       odometer_value  year_produced  ...    up_counter  duration_listed\n",
              "count    38521.000000   38521.000000  ...  38521.000000     38521.000000\n",
              "mean    248910.074427    2002.940863  ...     16.306586        80.584616\n",
              "std     136059.499858       8.064761  ...     43.291786       112.838577\n",
              "min          0.000000    1942.000000  ...      1.000000         0.000000\n",
              "25%     158000.000000    1998.000000  ...      2.000000        23.000000\n",
              "50%     250000.000000    2003.000000  ...      5.000000        59.000000\n",
              "75%     325000.000000    2009.000000  ...     16.000000        91.000000\n",
              "max    1000000.000000    2019.000000  ...   1861.000000      2232.000000\n",
              "\n",
              "[8 rows x 7 columns]"
            ]
          },
          "metadata": {
            "tags": []
          },
          "execution_count": 118
        }
      ]
    },
    {
      "cell_type": "markdown",
      "metadata": {
        "id": "k-zPmZJi5yb5"
      },
      "source": [
        "check again all the datatype of each column to find which column has numeric data type so that it suitable to perform any calculation analysis and which is object to analyse the frequency/occurences"
      ]
    },
    {
      "cell_type": "code",
      "metadata": {
        "colab": {
          "base_uri": "https://localhost:8080/"
        },
        "id": "n-5RnYZHt6NT",
        "outputId": "ca35bb30-e047-41ad-cb0d-89da0b854c82"
      },
      "source": [
        "df.info()"
      ],
      "execution_count": null,
      "outputs": [
        {
          "output_type": "stream",
          "text": [
            "<class 'pandas.core.frame.DataFrame'>\n",
            "Int64Index: 38521 entries, 0 to 38530\n",
            "Data columns (total 30 columns):\n",
            " #   Column             Non-Null Count  Dtype  \n",
            "---  ------             --------------  -----  \n",
            " 0   manufacturer_name  38521 non-null  object \n",
            " 1   model_name         38521 non-null  object \n",
            " 2   transmission       38521 non-null  object \n",
            " 3   color              38521 non-null  object \n",
            " 4   odometer_value     38521 non-null  int64  \n",
            " 5   year_produced      38521 non-null  int64  \n",
            " 6   engine_fuel        38521 non-null  object \n",
            " 7   engine_has_gas     38521 non-null  bool   \n",
            " 8   engine_type        38521 non-null  object \n",
            " 9   engine_capacity    38521 non-null  float64\n",
            " 10  body_type          38521 non-null  object \n",
            " 11  has_warranty       38521 non-null  bool   \n",
            " 12  state              38521 non-null  object \n",
            " 13  drivetrain         38521 non-null  object \n",
            " 14  price_usd          38521 non-null  float64\n",
            " 15  is_exchangeable    38521 non-null  bool   \n",
            " 16  location_region    38521 non-null  object \n",
            " 17  number_of_photos   38521 non-null  int64  \n",
            " 18  up_counter         38521 non-null  int64  \n",
            " 19  feature_0          38521 non-null  bool   \n",
            " 20  feature_1          38521 non-null  bool   \n",
            " 21  feature_2          38521 non-null  bool   \n",
            " 22  feature_3          38521 non-null  bool   \n",
            " 23  feature_4          38521 non-null  bool   \n",
            " 24  feature_5          38521 non-null  bool   \n",
            " 25  feature_6          38521 non-null  bool   \n",
            " 26  feature_7          38521 non-null  bool   \n",
            " 27  feature_8          38521 non-null  bool   \n",
            " 28  feature_9          38521 non-null  bool   \n",
            " 29  duration_listed    38521 non-null  int64  \n",
            "dtypes: bool(13), float64(2), int64(5), object(10)\n",
            "memory usage: 5.8+ MB\n"
          ],
          "name": "stdout"
        }
      ]
    },
    {
      "cell_type": "markdown",
      "metadata": {
        "id": "bnaxmV5dNoyG"
      },
      "source": [
        "# Question 1"
      ]
    },
    {
      "cell_type": "markdown",
      "metadata": {
        "id": "bIDQ-edj8-zB"
      },
      "source": [
        "**1 - what is the optimal range for odometer value of their car for anyone before they want to sell their car ?**"
      ]
    },
    {
      "cell_type": "code",
      "metadata": {
        "colab": {
          "base_uri": "https://localhost:8080/"
        },
        "id": "_sZ8pN-j-m8O",
        "outputId": "f73f2b59-9aec-4139-b3f1-d6967474ef36"
      },
      "source": [
        "df['odometer_value'].describe() # describe the column to see the important variables"
      ],
      "execution_count": null,
      "outputs": [
        {
          "output_type": "execute_result",
          "data": {
            "text/plain": [
              "count      38521.000000\n",
              "mean      248910.074427\n",
              "std       136059.499858\n",
              "min            0.000000\n",
              "25%       158000.000000\n",
              "50%       250000.000000\n",
              "75%       325000.000000\n",
              "max      1000000.000000\n",
              "Name: odometer_value, dtype: float64"
            ]
          },
          "metadata": {
            "tags": []
          },
          "execution_count": 120
        }
      ]
    },
    {
      "cell_type": "markdown",
      "metadata": {
        "id": "c8Zbp3Nx6pik"
      },
      "source": [
        "the **highest odometer values** of the used cart in the catalog is **1 million km** and the lowest could be 0, (it could be the odometer is reset) . The **average** of odometer of the used car is **248910 KM**\n"
      ]
    },
    {
      "cell_type": "markdown",
      "metadata": {
        "id": "IaOM4VVB88Dy"
      },
      "source": [
        "The plotting the **data distibution** to see which the **density of the odometer** values and find which the range before someone want to sell their car "
      ]
    },
    {
      "cell_type": "code",
      "metadata": {
        "colab": {
          "base_uri": "https://localhost:8080/",
          "height": 622
        },
        "id": "8Nh04L7gf9VL",
        "outputId": "0cc66e44-dcc9-4b74-c615-5588173b7dec"
      },
      "source": [
        "import warnings\n",
        "warnings.filterwarnings('ignore')\n",
        "\n",
        "fig, ax = plt.subplots(figsize=(20,10)) \n",
        "sns.distplot(df['odometer_value'], color='green')\n",
        "plt.xticks([-100000,0,100000,200000,300000,400000,500000,600000,700000,800000,900000,1000000])\n",
        "plt.axvline(df['odometer_value'].mean(), ls=':')\n",
        "\n",
        "plt.legend(['odometer value distribution','mean'])\n",
        "plt.show()"
      ],
      "execution_count": null,
      "outputs": [
        {
          "output_type": "display_data",
          "data": {
            "image/png": "[encoded data removed]",
            "text/plain": [
              "<Figure size 1440x720 with 1 Axes>"
            ]
          },
          "metadata": {
            "tags": []
          }
        }
      ]
    },
    {
      "cell_type": "code",
      "metadata": {
        "colab": {
          "base_uri": "https://localhost:8080/"
        },
        "id": "9DUU-3t-kNJa",
        "outputId": "fa39366a-65ec-4c7e-f167-47d88b5535e2"
      },
      "source": [
        "df['odometer_value'].mean() # check the mean of the odometer values"
      ],
      "execution_count": null,
      "outputs": [
        {
          "output_type": "execute_result",
          "data": {
            "text/plain": [
              "248910.07442693596"
            ]
          },
          "metadata": {
            "tags": []
          },
          "execution_count": 122
        }
      ]
    },
    {
      "cell_type": "code",
      "metadata": {
        "colab": {
          "base_uri": "https://localhost:8080/"
        },
        "id": "5i5Ddo3QqYD8",
        "outputId": "8feec185-75d8-481c-aa54-1ccfed2fd03b"
      },
      "source": [
        "x = df['odometer_value'].to_numpy() # convert from float to numpy to ease calculation\n",
        "type(x)"
      ],
      "execution_count": null,
      "outputs": [
        {
          "output_type": "execute_result",
          "data": {
            "text/plain": [
              "numpy.ndarray"
            ]
          },
          "metadata": {
            "tags": []
          },
          "execution_count": 123
        }
      ]
    },
    {
      "cell_type": "markdown",
      "metadata": {
        "id": "xJdDB_sdSR3Y"
      },
      "source": [
        "to enchance the range fo the odometer range that is optimal . Using the standard deviation to find the consistency of the odometer of the used car"
      ]
    },
    {
      "cell_type": "code",
      "metadata": {
        "colab": {
          "base_uri": "https://localhost:8080/",
          "height": 453
        },
        "id": "-qPHnSHJqhA_",
        "outputId": "7dfd5890-7b39-4ea5-949f-3ddc1047c120"
      },
      "source": [
        "fig, axes = plt.subplots(ncols=2, figsize=(24, 8))\n",
        "for ax in axes:\n",
        "    sns.kdeplot(x, shade=False, color='green', ax=ax)\n",
        "    kdeline = ax.lines[0]\n",
        "    xs = kdeline.get_xdata()\n",
        "    ys = kdeline.get_ydata()\n",
        "    if ax == axes[0]:\n",
        "        middle = x.mean()\n",
        "        sdev = x.std()\n",
        "        left = middle - sdev\n",
        "        right = middle + sdev\n",
        "        ax.set_title('Showing mean and standard deviation')\n",
        "    else:\n",
        "        left, middle, right = np.percentile(x, [25, 50, 75])\n",
        "        ax.set_title('Showing median and quartiles region')\n",
        "    ax.vlines(middle, 0, np.interp(middle, xs, ys), color='green', ls=':') # create the mean line\n",
        "    ax.fill_between(xs, 0, ys, facecolor='red', alpha=0.2) \n",
        "    ax.fill_between(xs, 0, ys, where=(left <= xs) & (xs <= right), interpolate=True, facecolor='green', alpha=0.2)\n",
        "    \n",
        "    ax.set_ylim(ymin=0)\n",
        "ax.legend()\n",
        "plt.show()"
      ],
      "execution_count": null,
      "outputs": [
        {
          "output_type": "stream",
          "text": [
            "No handles with labels found to put in legend.\n"
          ],
          "name": "stderr"
        },
        {
          "output_type": "display_data",
          "data": {
            "image/png": "[encoded data removed]",
            "text/plain": [
              "<Figure size 1728x576 with 2 Axes>"
            ]
          },
          "metadata": {
            "tags": []
          }
        }
      ]
    },
    {
      "cell_type": "markdown",
      "metadata": {
        "id": "OVyV6YajJ3co"
      },
      "source": [
        "By implementing box plot and interquatile we can get the data dispersion and spread. Look like it doesn't have much different by implementing the standard deviation and quartile region"
      ]
    },
    {
      "cell_type": "code",
      "metadata": {
        "colab": {
          "base_uri": "https://localhost:8080/",
          "height": 356
        },
        "id": "C-ZTVk_oAcw9",
        "outputId": "0e502ca2-e5af-439e-f327-09aeeae02550"
      },
      "source": [
        "q1 = np.percentile(df['odometer_value'], 25)\n",
        "q3 = np.percentile(df['odometer_value'], 75)\n",
        "fig, ax = plt.subplots(figsize=(20,5)) \n",
        "sns.set_theme(style=\"whitegrid\")\n",
        "ax = sns.boxplot(x=df['odometer_value'], color='grey')\n",
        "ax.legend()\n",
        "plt.axvline(np.percentile(df['odometer_value'], 25), ls='solid',color='green')\n",
        "plt.axvline(np.percentile(df['odometer_value'], 75), ls='solid',color='green')\n",
        "plt.text( 190, 300, q1,ha='center', va='center',transform=None)  # position q1 value absolutely at specific pixel on image\n",
        "plt.text( 450, 300, q3,ha='center', va='center',transform=None)  # position q3 value absolutely at specific pixel on image\n",
        "plt.show()"
      ],
      "execution_count": null,
      "outputs": [
        {
          "output_type": "stream",
          "text": [
            "No handles with labels found to put in legend.\n"
          ],
          "name": "stderr"
        },
        {
          "output_type": "display_data",
          "data": {
            "image/png": "[encoded data removed]",
            "text/plain": [
              "<Figure size 1440x360 with 1 Axes>"
            ]
          },
          "metadata": {
            "tags": []
          }
        }
      ]
    },
    {
      "cell_type": "markdown",
      "metadata": {
        "id": "gD7ImohwK2XN"
      },
      "source": [
        "The popular or **optimal odometer values** is **between 158 000km to 325 000km** since most of the data spread withing this range. \n",
        "Range around 248 910km also optimal for someone to sell their car. So if someone wants to sell their car this is the optimal odometer value for them!"
      ]
    },
    {
      "cell_type": "markdown",
      "metadata": {
        "id": "RzcJ5cGzOJsa"
      },
      "source": [
        "# Question 2"
      ]
    },
    {
      "cell_type": "markdown",
      "metadata": {
        "id": "HU36z0gmFBNq"
      },
      "source": [
        "**which brand is for used car is most and least popular?**"
      ]
    },
    {
      "cell_type": "code",
      "metadata": {
        "colab": {
          "base_uri": "https://localhost:8080/",
          "height": 224
        },
        "id": "zkiA1fSDOOKn",
        "outputId": "deede79e-ce0d-4f8f-9066-508784ea2c8b"
      },
      "source": [
        "df.head() #check the head again"
      ],
      "execution_count": null,
      "outputs": [
        {
          "output_type": "execute_result",
          "data": {
            "text/html": [
              "<div>\n",
              "<style scoped>\n",
              "    .dataframe tbody tr th:only-of-type {\n",
              "        vertical-align: middle;\n",
              "    }\n",
              "\n",
              "    .dataframe tbody tr th {\n",
              "        vertical-align: top;\n",
              "    }\n",
              "\n",
              "    .dataframe thead th {\n",
              "        text-align: right;\n",
              "    }\n",
              "</style>\n",
              "<table border=\"1\" class=\"dataframe\">\n",
              "  <thead>\n",
              "    <tr style=\"text-align: right;\">\n",
              "      <th></th>\n",
              "      <th>manufacturer_name</th>\n",
              "      <th>model_name</th>\n",
              "      <th>transmission</th>\n",
              "      <th>color</th>\n",
              "      <th>odometer_value</th>\n",
              "      <th>year_produced</th>\n",
              "      <th>engine_fuel</th>\n",
              "      <th>engine_has_gas</th>\n",
              "      <th>engine_type</th>\n",
              "      <th>engine_capacity</th>\n",
              "      <th>body_type</th>\n",
              "      <th>has_warranty</th>\n",
              "      <th>state</th>\n",
              "      <th>drivetrain</th>\n",
              "      <th>price_usd</th>\n",
              "      <th>is_exchangeable</th>\n",
              "      <th>location_region</th>\n",
              "      <th>number_of_photos</th>\n",
              "      <th>up_counter</th>\n",
              "      <th>feature_0</th>\n",
              "      <th>feature_1</th>\n",
              "      <th>feature_2</th>\n",
              "      <th>feature_3</th>\n",
              "      <th>feature_4</th>\n",
              "      <th>feature_5</th>\n",
              "      <th>feature_6</th>\n",
              "      <th>feature_7</th>\n",
              "      <th>feature_8</th>\n",
              "      <th>feature_9</th>\n",
              "      <th>duration_listed</th>\n",
              "    </tr>\n",
              "  </thead>\n",
              "  <tbody>\n",
              "    <tr>\n",
              "      <th>0</th>\n",
              "      <td>Subaru</td>\n",
              "      <td>Outback</td>\n",
              "      <td>automatic</td>\n",
              "      <td>silver</td>\n",
              "      <td>190000</td>\n",
              "      <td>2010</td>\n",
              "      <td>gasoline</td>\n",
              "      <td>False</td>\n",
              "      <td>gasoline</td>\n",
              "      <td>2.5</td>\n",
              "      <td>universal</td>\n",
              "      <td>False</td>\n",
              "      <td>owned</td>\n",
              "      <td>all</td>\n",
              "      <td>10900.00</td>\n",
              "      <td>False</td>\n",
              "      <td>Минская обл.</td>\n",
              "      <td>9</td>\n",
              "      <td>13</td>\n",
              "      <td>False</td>\n",
              "      <td>True</td>\n",
              "      <td>True</td>\n",
              "      <td>True</td>\n",
              "      <td>False</td>\n",
              "      <td>True</td>\n",
              "      <td>False</td>\n",
              "      <td>True</td>\n",
              "      <td>True</td>\n",
              "      <td>True</td>\n",
              "      <td>16</td>\n",
              "    </tr>\n",
              "    <tr>\n",
              "      <th>1</th>\n",
              "      <td>Subaru</td>\n",
              "      <td>Outback</td>\n",
              "      <td>automatic</td>\n",
              "      <td>blue</td>\n",
              "      <td>290000</td>\n",
              "      <td>2002</td>\n",
              "      <td>gasoline</td>\n",
              "      <td>False</td>\n",
              "      <td>gasoline</td>\n",
              "      <td>3.0</td>\n",
              "      <td>universal</td>\n",
              "      <td>False</td>\n",
              "      <td>owned</td>\n",
              "      <td>all</td>\n",
              "      <td>5000.00</td>\n",
              "      <td>True</td>\n",
              "      <td>Минская обл.</td>\n",
              "      <td>12</td>\n",
              "      <td>54</td>\n",
              "      <td>False</td>\n",
              "      <td>True</td>\n",
              "      <td>False</td>\n",
              "      <td>False</td>\n",
              "      <td>True</td>\n",
              "      <td>True</td>\n",
              "      <td>False</td>\n",
              "      <td>False</td>\n",
              "      <td>False</td>\n",
              "      <td>True</td>\n",
              "      <td>83</td>\n",
              "    </tr>\n",
              "    <tr>\n",
              "      <th>2</th>\n",
              "      <td>Subaru</td>\n",
              "      <td>Forester</td>\n",
              "      <td>automatic</td>\n",
              "      <td>red</td>\n",
              "      <td>402000</td>\n",
              "      <td>2001</td>\n",
              "      <td>gasoline</td>\n",
              "      <td>False</td>\n",
              "      <td>gasoline</td>\n",
              "      <td>2.5</td>\n",
              "      <td>suv</td>\n",
              "      <td>False</td>\n",
              "      <td>owned</td>\n",
              "      <td>all</td>\n",
              "      <td>2800.00</td>\n",
              "      <td>True</td>\n",
              "      <td>Минская обл.</td>\n",
              "      <td>4</td>\n",
              "      <td>72</td>\n",
              "      <td>False</td>\n",
              "      <td>True</td>\n",
              "      <td>False</td>\n",
              "      <td>False</td>\n",
              "      <td>False</td>\n",
              "      <td>False</td>\n",
              "      <td>False</td>\n",
              "      <td>False</td>\n",
              "      <td>True</td>\n",
              "      <td>True</td>\n",
              "      <td>151</td>\n",
              "    </tr>\n",
              "    <tr>\n",
              "      <th>3</th>\n",
              "      <td>Subaru</td>\n",
              "      <td>Impreza</td>\n",
              "      <td>mechanical</td>\n",
              "      <td>blue</td>\n",
              "      <td>10000</td>\n",
              "      <td>1999</td>\n",
              "      <td>gasoline</td>\n",
              "      <td>False</td>\n",
              "      <td>gasoline</td>\n",
              "      <td>3.0</td>\n",
              "      <td>sedan</td>\n",
              "      <td>False</td>\n",
              "      <td>owned</td>\n",
              "      <td>all</td>\n",
              "      <td>9999.00</td>\n",
              "      <td>True</td>\n",
              "      <td>Минская обл.</td>\n",
              "      <td>9</td>\n",
              "      <td>42</td>\n",
              "      <td>True</td>\n",
              "      <td>False</td>\n",
              "      <td>False</td>\n",
              "      <td>False</td>\n",
              "      <td>False</td>\n",
              "      <td>False</td>\n",
              "      <td>False</td>\n",
              "      <td>False</td>\n",
              "      <td>False</td>\n",
              "      <td>False</td>\n",
              "      <td>86</td>\n",
              "    </tr>\n",
              "    <tr>\n",
              "      <th>4</th>\n",
              "      <td>Subaru</td>\n",
              "      <td>Legacy</td>\n",
              "      <td>automatic</td>\n",
              "      <td>black</td>\n",
              "      <td>280000</td>\n",
              "      <td>2001</td>\n",
              "      <td>gasoline</td>\n",
              "      <td>False</td>\n",
              "      <td>gasoline</td>\n",
              "      <td>2.5</td>\n",
              "      <td>universal</td>\n",
              "      <td>False</td>\n",
              "      <td>owned</td>\n",
              "      <td>all</td>\n",
              "      <td>2134.11</td>\n",
              "      <td>True</td>\n",
              "      <td>Гомельская обл.</td>\n",
              "      <td>14</td>\n",
              "      <td>7</td>\n",
              "      <td>False</td>\n",
              "      <td>True</td>\n",
              "      <td>False</td>\n",
              "      <td>True</td>\n",
              "      <td>True</td>\n",
              "      <td>False</td>\n",
              "      <td>False</td>\n",
              "      <td>False</td>\n",
              "      <td>False</td>\n",
              "      <td>True</td>\n",
              "      <td>7</td>\n",
              "    </tr>\n",
              "  </tbody>\n",
              "</table>\n",
              "</div>"
            ],
            "text/plain": [
              "  manufacturer_name model_name  ... feature_9 duration_listed\n",
              "0            Subaru    Outback  ...      True              16\n",
              "1            Subaru    Outback  ...      True              83\n",
              "2            Subaru   Forester  ...      True             151\n",
              "3            Subaru    Impreza  ...     False              86\n",
              "4            Subaru     Legacy  ...      True               7\n",
              "\n",
              "[5 rows x 30 columns]"
            ]
          },
          "metadata": {
            "tags": []
          },
          "execution_count": 126
        }
      ]
    },
    {
      "cell_type": "code",
      "metadata": {
        "id": "OfY8xvxfOs8i",
        "colab": {
          "base_uri": "https://localhost:8080/"
        },
        "outputId": "afff6921-066c-467a-c3d7-3e3c6d7e1409"
      },
      "source": [
        "df['manufacturer_name'].value_counts(sort=True) # count the occurence of the brand name "
      ],
      "execution_count": null,
      "outputs": [
        {
          "output_type": "execute_result",
          "data": {
            "text/plain": [
              "Volkswagen       4243\n",
              "Opel             2759\n",
              "BMW              2608\n",
              "Ford             2566\n",
              "Renault          2493\n",
              "Audi             2468\n",
              "Mercedes-Benz    2237\n",
              "Peugeot          1909\n",
              "Citroen          1562\n",
              "Nissan           1356\n",
              "Mazda            1328\n",
              "Toyota           1246\n",
              "Hyundai          1116\n",
              "Skoda            1089\n",
              "Kia               912\n",
              "Mitsubishi        887\n",
              "Fiat              822\n",
              "Honda             797\n",
              "Volvo             721\n",
              "ВАЗ               481\n",
              "Chevrolet         435\n",
              "Chrysler          410\n",
              "Seat              303\n",
              "Dodge             297\n",
              "Subaru            291\n",
              "Rover             235\n",
              "Suzuki            234\n",
              "Daewoo            221\n",
              "Lexus             213\n",
              "Alfa Romeo        207\n",
              "ГАЗ               200\n",
              "Land Rover        184\n",
              "Infiniti          162\n",
              "LADA              146\n",
              "Iveco             139\n",
              "Saab              108\n",
              "Jeep              107\n",
              "Lancia             92\n",
              "SsangYong          79\n",
              "УАЗ                74\n",
              "Geely              71\n",
              "Mini               68\n",
              "Acura              66\n",
              "Porsche            61\n",
              "Dacia              59\n",
              "Chery              58\n",
              "Москвич            55\n",
              "Jaguar             53\n",
              "Buick              47\n",
              "Lifan              47\n",
              "Cadillac           43\n",
              "Pontiac            42\n",
              "ЗАЗ                42\n",
              "Great Wall         36\n",
              "Lincoln            36\n",
              "Name: manufacturer_name, dtype: int64"
            ]
          },
          "metadata": {
            "tags": []
          },
          "execution_count": 127
        }
      ]
    },
    {
      "cell_type": "markdown",
      "metadata": {
        "id": "rZvwVvibS6YA"
      },
      "source": [
        "there are many brand in the catalog seem the most popular to are **Volkswagen** followed by **Opel**"
      ]
    },
    {
      "cell_type": "code",
      "metadata": {
        "id": "4ayPJbAQPdEa"
      },
      "source": [
        "def treemap(categories,title,path,values):  #creating funtion for treemap\n",
        "    fig = px.treemap(categories, path=path, values=values, height=700,\n",
        "                 title=title, color_discrete_sequence = px.colors.sequential.RdBu)\n",
        "    fig.data[0].textinfo = 'label+text+value'\n",
        "    fig.show()"
      ],
      "execution_count": null,
      "outputs": []
    },
    {
      "cell_type": "code",
      "metadata": {
        "id": "TScygOkIPtby"
      },
      "source": [
        "Number_Manifactured = df['manufacturer_name'].value_counts() #creating ecessaty varibles and parameters to be put into treeman function\n",
        "values = Number_Manifactured.values\n",
        "categories = pd.DataFrame(data=Number_Manifactured.index, columns=[\"manufacturer_name\"])\n",
        "categories['values'] = values"
      ],
      "execution_count": null,
      "outputs": []
    },
    {
      "cell_type": "code",
      "metadata": {
        "colab": {
          "base_uri": "https://localhost:8080/",
          "height": 717
        },
        "id": "AlaRnh3YQa1S",
        "outputId": "8e6fa55e-2ad7-4fde-8081-321a30b0cba6"
      },
      "source": [
        "treemap(categories,'manufacturer_name',['manufacturer_name'],categories['values'])\n",
        "#if there is an error in this code like path , please update the plotly libraries .Restart the runtime, run all over again"
      ],
      "execution_count": null,
      "outputs": [
        {
          "output_type": "display_data",
          "data": {
            "text/html": [
              "<html>\n",
              "<head><meta charset=\"utf-8\" /></head>\n",
              "<body>\n",
              "    <div>            <script src=\"https://cdnjs.cloudflare.com/ajax/libs/mathjax/2.7.5/MathJax.js?config=TeX-AMS-MML_SVG\"></script><script type=\"text/javascript\">if (window.MathJax) {MathJax.Hub.Config({SVG: {font: \"STIX-Web\"}});}</script>                <script type=\"text/javascript\">window.PlotlyConfig = {MathJaxConfig: 'local'};</script>\n",
              "        <script src=\"https://cdn.plot.ly/plotly-latest.min.js\"></script>                <div id=\"34e2fe45-51a6-4317-b526-d66571f0041b\" class=\"plotly-graph-div\" style=\"height:700px; width:100%;\"></div>            <script type=\"text/javascript\">                                    window.PLOTLYENV=window.PLOTLYENV || {};                                    if (document.getElementById(\"34e2fe45-51a6-4317-b526-d66571f0041b\")) {                    Plotly.newPlot(                        \"34e2fe45-51a6-4317-b526-d66571f0041b\",                        [{\"branchvalues\": \"total\", \"domain\": {\"x\": [0.0, 1.0], \"y\": [0.0, 1.0]}, \"hovertemplate\": \"labels=%{label}<br>value=%{value}<br>parent=%{parent}<br>id=%{id}<extra></extra>\", \"ids\": [\"Acura\", \"Alfa Romeo\", \"Audi\", \"BMW\", \"Buick\", \"Cadillac\", \"Chery\", \"Chevrolet\", \"Chrysler\", \"Citroen\", \"Dacia\", \"Daewoo\", \"Dodge\", \"Fiat\", \"Ford\", \"Geely\", \"Great Wall\", \"Honda\", \"Hyundai\", \"Infiniti\", \"Iveco\", \"Jaguar\", \"Jeep\", \"Kia\", \"LADA\", \"Lancia\", \"Land Rover\", \"Lexus\", \"Lifan\", \"Lincoln\", \"Mazda\", \"Mercedes-Benz\", \"Mini\", \"Mitsubishi\", \"Nissan\", \"Opel\", \"Peugeot\", \"Pontiac\", \"Porsche\", \"Renault\", \"Rover\", \"Saab\", \"Seat\", \"Skoda\", \"SsangYong\", \"Subaru\", \"Suzuki\", \"Toyota\", \"Volkswagen\", \"Volvo\", \"\\u0412\\u0410\\u0417\", \"\\u0413\\u0410\\u0417\", \"\\u0417\\u0410\\u0417\", \"\\u041c\\u043e\\u0441\\u043a\\u0432\\u0438\\u0447\", \"\\u0423\\u0410\\u0417\"], \"labels\": [\"Acura\", \"Alfa Romeo\", \"Audi\", \"BMW\", \"Buick\", \"Cadillac\", \"Chery\", \"Chevrolet\", \"Chrysler\", \"Citroen\", \"Dacia\", \"Daewoo\", \"Dodge\", \"Fiat\", \"Ford\", \"Geely\", \"Great Wall\", \"Honda\", \"Hyundai\", \"Infiniti\", \"Iveco\", \"Jaguar\", \"Jeep\", \"Kia\", \"LADA\", \"Lancia\", \"Land Rover\", \"Lexus\", \"Lifan\", \"Lincoln\", \"Mazda\", \"Mercedes-Benz\", \"Mini\", \"Mitsubishi\", \"Nissan\", \"Opel\", \"Peugeot\", \"Pontiac\", \"Porsche\", \"Renault\", \"Rover\", \"Saab\", \"Seat\", \"Skoda\", \"SsangYong\", \"Subaru\", \"Suzuki\", \"Toyota\", \"Volkswagen\", \"Volvo\", \"\\u0412\\u0410\\u0417\", \"\\u0413\\u0410\\u0417\", \"\\u0417\\u0410\\u0417\", \"\\u041c\\u043e\\u0441\\u043a\\u0432\\u0438\\u0447\", \"\\u0423\\u0410\\u0417\"], \"name\": \"\", \"parents\": [\"\", \"\", \"\", \"\", \"\", \"\", \"\", \"\", \"\", \"\", \"\", \"\", \"\", \"\", \"\", \"\", \"\", \"\", \"\", \"\", \"\", \"\", \"\", \"\", \"\", \"\", \"\", \"\", \"\", \"\", \"\", \"\", \"\", \"\", \"\", \"\", \"\", \"\", \"\", \"\", \"\", \"\", \"\", \"\", \"\", \"\", \"\", \"\", \"\", \"\", \"\", \"\", \"\", \"\", \"\"], \"textinfo\": \"label+text+value\", \"type\": \"treemap\", \"values\": [66, 207, 2468, 2608, 47, 43, 58, 435, 410, 1562, 59, 221, 297, 822, 2566, 71, 36, 797, 1116, 162, 139, 53, 107, 912, 146, 92, 184, 213, 47, 36, 1328, 2237, 68, 887, 1356, 2759, 1909, 42, 61, 2493, 235, 108, 303, 1089, 79, 291, 234, 1246, 4243, 721, 481, 200, 42, 55, 74]}],                        {\"height\": 700, \"legend\": {\"tracegroupgap\": 0}, \"template\": {\"data\": {\"bar\": [{\"error_x\": {\"color\": \"#2a3f5f\"}, \"error_y\": {\"color\": \"#2a3f5f\"}, \"marker\": {\"line\": {\"color\": \"#E5ECF6\", \"width\": 0.5}}, \"type\": \"bar\"}], \"barpolar\": [{\"marker\": {\"line\": {\"color\": \"#E5ECF6\", \"width\": 0.5}}, \"type\": \"barpolar\"}], \"carpet\": [{\"aaxis\": {\"endlinecolor\": \"#2a3f5f\", \"gridcolor\": \"white\", \"linecolor\": \"white\", \"minorgridcolor\": \"white\", \"startlinecolor\": \"#2a3f5f\"}, \"baxis\": {\"endlinecolor\": \"#2a3f5f\", \"gridcolor\": \"white\", \"linecolor\": \"white\", \"minorgridcolor\": \"white\", \"startlinecolor\": \"#2a3f5f\"}, \"type\": \"carpet\"}], \"choropleth\": [{\"colorbar\": {\"outlinewidth\": 0, \"ticks\": \"\"}, \"type\": \"choropleth\"}], \"contour\": [{\"colorbar\": {\"outlinewidth\": 0, \"ticks\": \"\"}, \"colorscale\": [[0.0, \"#0d0887\"], [0.1111111111111111, \"#46039f\"], [0.2222222222222222, \"#7201a8\"], [0.3333333333333333, \"#9c179e\"], [0.4444444444444444, \"#bd3786\"], [0.5555555555555556, \"#d8576b\"], [0.6666666666666666, \"#ed7953\"], [0.7777777777777778, \"#fb9f3a\"], [0.8888888888888888, \"#fdca26\"], [1.0, \"#f0f921\"]], \"type\": \"contour\"}], \"contourcarpet\": [{\"colorbar\": {\"outlinewidth\": 0, \"ticks\": \"\"}, \"type\": \"contourcarpet\"}], \"heatmap\": [{\"colorbar\": {\"outlinewidth\": 0, \"ticks\": \"\"}, \"colorscale\": [[0.0, \"#0d0887\"], [0.1111111111111111, \"#46039f\"], [0.2222222222222222, \"#7201a8\"], [0.3333333333333333, \"#9c179e\"], [0.4444444444444444, \"#bd3786\"], [0.5555555555555556, \"#d8576b\"], [0.6666666666666666, \"#ed7953\"], [0.7777777777777778, \"#fb9f3a\"], [0.8888888888888888, \"#fdca26\"], [1.0, \"#f0f921\"]], \"type\": \"heatmap\"}], \"heatmapgl\": [{\"colorbar\": {\"outlinewidth\": 0, \"ticks\": \"\"}, \"colorscale\": [[0.0, \"#0d0887\"], [0.1111111111111111, \"#46039f\"], [0.2222222222222222, \"#7201a8\"], [0.3333333333333333, \"#9c179e\"], [0.4444444444444444, \"#bd3786\"], [0.5555555555555556, \"#d8576b\"], [0.6666666666666666, \"#ed7953\"], [0.7777777777777778, \"#fb9f3a\"], [0.8888888888888888, \"#fdca26\"], [1.0, \"#f0f921\"]], \"type\": \"heatmapgl\"}], \"histogram\": [{\"marker\": {\"colorbar\": {\"outlinewidth\": 0, \"ticks\": \"\"}}, \"type\": \"histogram\"}], \"histogram2d\": [{\"colorbar\": {\"outlinewidth\": 0, \"ticks\": \"\"}, \"colorscale\": [[0.0, \"#0d0887\"], [0.1111111111111111, \"#46039f\"], [0.2222222222222222, \"#7201a8\"], [0.3333333333333333, \"#9c179e\"], [0.4444444444444444, \"#bd3786\"], [0.5555555555555556, \"#d8576b\"], [0.6666666666666666, \"#ed7953\"], [0.7777777777777778, \"#fb9f3a\"], [0.8888888888888888, \"#fdca26\"], [1.0, \"#f0f921\"]], \"type\": \"histogram2d\"}], \"histogram2dcontour\": [{\"colorbar\": {\"outlinewidth\": 0, \"ticks\": \"\"}, \"colorscale\": [[0.0, \"#0d0887\"], [0.1111111111111111, \"#46039f\"], [0.2222222222222222, \"#7201a8\"], [0.3333333333333333, \"#9c179e\"], [0.4444444444444444, \"#bd3786\"], [0.5555555555555556, \"#d8576b\"], [0.6666666666666666, \"#ed7953\"], [0.7777777777777778, \"#fb9f3a\"], [0.8888888888888888, \"#fdca26\"], [1.0, \"#f0f921\"]], \"type\": \"histogram2dcontour\"}], \"mesh3d\": [{\"colorbar\": {\"outlinewidth\": 0, \"ticks\": \"\"}, \"type\": \"mesh3d\"}], \"parcoords\": [{\"line\": {\"colorbar\": {\"outlinewidth\": 0, \"ticks\": \"\"}}, \"type\": \"parcoords\"}], \"pie\": [{\"automargin\": true, \"type\": \"pie\"}], \"scatter\": [{\"marker\": {\"colorbar\": {\"outlinewidth\": 0, \"ticks\": \"\"}}, \"type\": \"scatter\"}], \"scatter3d\": [{\"line\": {\"colorbar\": {\"outlinewidth\": 0, \"ticks\": \"\"}}, \"marker\": {\"colorbar\": {\"outlinewidth\": 0, \"ticks\": \"\"}}, \"type\": \"scatter3d\"}], \"scattercarpet\": [{\"marker\": {\"colorbar\": {\"outlinewidth\": 0, \"ticks\": \"\"}}, \"type\": \"scattercarpet\"}], \"scattergeo\": [{\"marker\": {\"colorbar\": {\"outlinewidth\": 0, \"ticks\": \"\"}}, \"type\": \"scattergeo\"}], \"scattergl\": [{\"marker\": {\"colorbar\": {\"outlinewidth\": 0, \"ticks\": \"\"}}, \"type\": \"scattergl\"}], \"scattermapbox\": [{\"marker\": {\"colorbar\": {\"outlinewidth\": 0, \"ticks\": \"\"}}, \"type\": \"scattermapbox\"}], \"scatterpolar\": [{\"marker\": {\"colorbar\": {\"outlinewidth\": 0, \"ticks\": \"\"}}, \"type\": \"scatterpolar\"}], \"scatterpolargl\": [{\"marker\": {\"colorbar\": {\"outlinewidth\": 0, \"ticks\": \"\"}}, \"type\": \"scatterpolargl\"}], \"scatterternary\": [{\"marker\": {\"colorbar\": {\"outlinewidth\": 0, \"ticks\": \"\"}}, \"type\": \"scatterternary\"}], \"surface\": [{\"colorbar\": {\"outlinewidth\": 0, \"ticks\": \"\"}, \"colorscale\": [[0.0, \"#0d0887\"], [0.1111111111111111, \"#46039f\"], [0.2222222222222222, \"#7201a8\"], [0.3333333333333333, \"#9c179e\"], [0.4444444444444444, \"#bd3786\"], [0.5555555555555556, \"#d8576b\"], [0.6666666666666666, \"#ed7953\"], [0.7777777777777778, \"#fb9f3a\"], [0.8888888888888888, \"#fdca26\"], [1.0, \"#f0f921\"]], \"type\": \"surface\"}], \"table\": [{\"cells\": {\"fill\": {\"color\": \"#EBF0F8\"}, \"line\": {\"color\": \"white\"}}, \"header\": {\"fill\": {\"color\": \"#C8D4E3\"}, \"line\": {\"color\": \"white\"}}, \"type\": \"table\"}]}, \"layout\": {\"annotationdefaults\": {\"arrowcolor\": \"#2a3f5f\", \"arrowhead\": 0, \"arrowwidth\": 1}, \"autotypenumbers\": \"strict\", \"coloraxis\": {\"colorbar\": {\"outlinewidth\": 0, \"ticks\": \"\"}}, \"colorscale\": {\"diverging\": [[0, \"#8e0152\"], [0.1, \"#c51b7d\"], [0.2, \"#de77ae\"], [0.3, \"#f1b6da\"], [0.4, \"#fde0ef\"], [0.5, \"#f7f7f7\"], [0.6, \"#e6f5d0\"], [0.7, \"#b8e186\"], [0.8, \"#7fbc41\"], [0.9, \"#4d9221\"], [1, \"#276419\"]], \"sequential\": [[0.0, \"#0d0887\"], [0.1111111111111111, \"#46039f\"], [0.2222222222222222, \"#7201a8\"], [0.3333333333333333, \"#9c179e\"], [0.4444444444444444, \"#bd3786\"], [0.5555555555555556, \"#d8576b\"], [0.6666666666666666, \"#ed7953\"], [0.7777777777777778, \"#fb9f3a\"], [0.8888888888888888, \"#fdca26\"], [1.0, \"#f0f921\"]], \"sequentialminus\": [[0.0, \"#0d0887\"], [0.1111111111111111, \"#46039f\"], [0.2222222222222222, \"#7201a8\"], [0.3333333333333333, \"#9c179e\"], [0.4444444444444444, \"#bd3786\"], [0.5555555555555556, \"#d8576b\"], [0.6666666666666666, \"#ed7953\"], [0.7777777777777778, \"#fb9f3a\"], [0.8888888888888888, \"#fdca26\"], [1.0, \"#f0f921\"]]}, \"colorway\": [\"#636efa\", \"#EF553B\", \"#00cc96\", \"#ab63fa\", \"#FFA15A\", \"#19d3f3\", \"#FF6692\", \"#B6E880\", \"#FF97FF\", \"#FECB52\"], \"font\": {\"color\": \"#2a3f5f\"}, \"geo\": {\"bgcolor\": \"white\", \"lakecolor\": \"white\", \"landcolor\": \"#E5ECF6\", \"showlakes\": true, \"showland\": true, \"subunitcolor\": \"white\"}, \"hoverlabel\": {\"align\": \"left\"}, \"hovermode\": \"closest\", \"mapbox\": {\"style\": \"light\"}, \"paper_bgcolor\": \"white\", \"plot_bgcolor\": \"#E5ECF6\", \"polar\": {\"angularaxis\": {\"gridcolor\": \"white\", \"linecolor\": \"white\", \"ticks\": \"\"}, \"bgcolor\": \"#E5ECF6\", \"radialaxis\": {\"gridcolor\": \"white\", \"linecolor\": \"white\", \"ticks\": \"\"}}, \"scene\": {\"xaxis\": {\"backgroundcolor\": \"#E5ECF6\", \"gridcolor\": \"white\", \"gridwidth\": 2, \"linecolor\": \"white\", \"showbackground\": true, \"ticks\": \"\", \"zerolinecolor\": \"white\"}, \"yaxis\": {\"backgroundcolor\": \"#E5ECF6\", \"gridcolor\": \"white\", \"gridwidth\": 2, \"linecolor\": \"white\", \"showbackground\": true, \"ticks\": \"\", \"zerolinecolor\": \"white\"}, \"zaxis\": {\"backgroundcolor\": \"#E5ECF6\", \"gridcolor\": \"white\", \"gridwidth\": 2, \"linecolor\": \"white\", \"showbackground\": true, \"ticks\": \"\", \"zerolinecolor\": \"white\"}}, \"shapedefaults\": {\"line\": {\"color\": \"#2a3f5f\"}}, \"ternary\": {\"aaxis\": {\"gridcolor\": \"white\", \"linecolor\": \"white\", \"ticks\": \"\"}, \"baxis\": {\"gridcolor\": \"white\", \"linecolor\": \"white\", \"ticks\": \"\"}, \"bgcolor\": \"#E5ECF6\", \"caxis\": {\"gridcolor\": \"white\", \"linecolor\": \"white\", \"ticks\": \"\"}}, \"title\": {\"x\": 0.05}, \"xaxis\": {\"automargin\": true, \"gridcolor\": \"white\", \"linecolor\": \"white\", \"ticks\": \"\", \"title\": {\"standoff\": 15}, \"zerolinecolor\": \"white\", \"zerolinewidth\": 2}, \"yaxis\": {\"automargin\": true, \"gridcolor\": \"white\", \"linecolor\": \"white\", \"ticks\": \"\", \"title\": {\"standoff\": 15}, \"zerolinecolor\": \"white\", \"zerolinewidth\": 2}}}, \"title\": {\"text\": \"manufacturer_name\"}, \"treemapcolorway\": [\"rgb(103,0,31)\", \"rgb(178,24,43)\", \"rgb(214,96,77)\", \"rgb(244,165,130)\", \"rgb(253,219,199)\", \"rgb(247,247,247)\", \"rgb(209,229,240)\", \"rgb(146,197,222)\", \"rgb(67,147,195)\", \"rgb(33,102,172)\", \"rgb(5,48,97)\"]},                        {\"responsive\": true}                    ).then(function(){\n",
              "                            \n",
              "var gd = document.getElementById('34e2fe45-51a6-4317-b526-d66571f0041b');\n",
              "var x = new MutationObserver(function (mutations, observer) {{\n",
              "        var display = window.getComputedStyle(gd).display;\n",
              "        if (!display || display === 'none') {{\n",
              "            console.log([gd, 'removed!']);\n",
              "            Plotly.purge(gd);\n",
              "            observer.disconnect();\n",
              "        }}\n",
              "}});\n",
              "\n",
              "// Listen for the removal of the full notebook cells\n",
              "var notebookContainer = gd.closest('#notebook-container');\n",
              "if (notebookContainer) {{\n",
              "    x.observe(notebookContainer, {childList: true});\n",
              "}}\n",
              "\n",
              "// Listen for the clearing of the current output cell\n",
              "var outputEl = gd.closest('.output');\n",
              "if (outputEl) {{\n",
              "    x.observe(outputEl, {childList: true});\n",
              "}}\n",
              "\n",
              "                        })                };                            </script>        </div>\n",
              "</body>\n",
              "</html>"
            ]
          },
          "metadata": {
            "tags": []
          }
        }
      ]
    },
    {
      "cell_type": "markdown",
      "metadata": {
        "id": "r4FInjCISqz6"
      },
      "source": [
        "Indeed the **most popular car is Volkswagen** but there are many other cars in the catalog that **significantly have high in number** such as **Opel, BMW, renault, Mercedes, Audi.** "
      ]
    },
    {
      "cell_type": "markdown",
      "metadata": {
        "id": "MHi-7OOXOxlB"
      },
      "source": [
        "since there are many used car with different brand name, taking top 10 most popular brand "
      ]
    },
    {
      "cell_type": "code",
      "metadata": {
        "colab": {
          "base_uri": "https://localhost:8080/"
        },
        "id": "UiwaVOmSOruU",
        "outputId": "5ef7dbbd-a785-4c95-fc09-8f663f03da1c"
      },
      "source": [
        "df['manufacturer_name'].value_counts(sort=True).nlargest(10)"
      ],
      "execution_count": null,
      "outputs": [
        {
          "output_type": "execute_result",
          "data": {
            "text/plain": [
              "Volkswagen       4243\n",
              "Opel             2759\n",
              "BMW              2608\n",
              "Ford             2566\n",
              "Renault          2493\n",
              "Audi             2468\n",
              "Mercedes-Benz    2237\n",
              "Peugeot          1909\n",
              "Citroen          1562\n",
              "Nissan           1356\n",
              "Name: manufacturer_name, dtype: int64"
            ]
          },
          "metadata": {
            "tags": []
          },
          "execution_count": 131
        }
      ]
    },
    {
      "cell_type": "markdown",
      "metadata": {
        "id": "qKSQy5h8GVI3"
      },
      "source": [
        "what about the least popular car brand ?"
      ]
    },
    {
      "cell_type": "code",
      "metadata": {
        "id": "lVNPNxPmTusC"
      },
      "source": [
        "data1 =df['manufacturer_name'].value_counts(ascending=False)"
      ],
      "execution_count": null,
      "outputs": []
    },
    {
      "cell_type": "code",
      "metadata": {
        "colab": {
          "base_uri": "https://localhost:8080/",
          "height": 668
        },
        "id": "MgnCTMuEZ1xM",
        "outputId": "2a6f9876-dc2e-46fa-d5be-2d76e8081e35"
      },
      "source": [
        "fig, ax = plt.subplots(figsize=(16,10)) \n",
        "sns.barplot(data1.index, data1.values)\n",
        "plt.xticks(rotation=90)\n",
        "plt.show()"
      ],
      "execution_count": null,
      "outputs": [
        {
          "output_type": "display_data",
          "data": {
            "image/png": "[encoded data removed]",
            "text/plain": [
              "<Figure size 1152x720 with 1 Axes>"
            ]
          },
          "metadata": {
            "tags": []
          }
        }
      ]
    },
    {
      "cell_type": "markdown",
      "metadata": {
        "id": "fGkiE2-sO9e2"
      },
      "source": [
        "As we already know that Volkswagen is the most popular brand to be resell followed by Open, BMW, Ford and Renault then, the **least popular brand** in the catalog **Great Wall, Lincoln, 3A3, Pontiac.**"
      ]
    },
    {
      "cell_type": "markdown",
      "metadata": {
        "id": "8NizUT1YcxEK"
      },
      "source": [
        "# Question 3"
      ]
    },
    {
      "cell_type": "markdown",
      "metadata": {
        "id": "QX9dXtlcA9ph"
      },
      "source": [
        "**How long the car is listed in the catalog?**"
      ]
    },
    {
      "cell_type": "code",
      "metadata": {
        "colab": {
          "base_uri": "https://localhost:8080/",
          "height": 224
        },
        "id": "sBp9I6VXdIKE",
        "outputId": "e2d33e92-546e-47b0-8c23-82239947fe2a"
      },
      "source": [
        "df.head()"
      ],
      "execution_count": null,
      "outputs": [
        {
          "output_type": "execute_result",
          "data": {
            "text/html": [
              "<div>\n",
              "<style scoped>\n",
              "    .dataframe tbody tr th:only-of-type {\n",
              "        vertical-align: middle;\n",
              "    }\n",
              "\n",
              "    .dataframe tbody tr th {\n",
              "        vertical-align: top;\n",
              "    }\n",
              "\n",
              "    .dataframe thead th {\n",
              "        text-align: right;\n",
              "    }\n",
              "</style>\n",
              "<table border=\"1\" class=\"dataframe\">\n",
              "  <thead>\n",
              "    <tr style=\"text-align: right;\">\n",
              "      <th></th>\n",
              "      <th>manufacturer_name</th>\n",
              "      <th>model_name</th>\n",
              "      <th>transmission</th>\n",
              "      <th>color</th>\n",
              "      <th>odometer_value</th>\n",
              "      <th>year_produced</th>\n",
              "      <th>engine_fuel</th>\n",
              "      <th>engine_has_gas</th>\n",
              "      <th>engine_type</th>\n",
              "      <th>engine_capacity</th>\n",
              "      <th>body_type</th>\n",
              "      <th>has_warranty</th>\n",
              "      <th>state</th>\n",
              "      <th>drivetrain</th>\n",
              "      <th>price_usd</th>\n",
              "      <th>is_exchangeable</th>\n",
              "      <th>location_region</th>\n",
              "      <th>number_of_photos</th>\n",
              "      <th>up_counter</th>\n",
              "      <th>feature_0</th>\n",
              "      <th>feature_1</th>\n",
              "      <th>feature_2</th>\n",
              "      <th>feature_3</th>\n",
              "      <th>feature_4</th>\n",
              "      <th>feature_5</th>\n",
              "      <th>feature_6</th>\n",
              "      <th>feature_7</th>\n",
              "      <th>feature_8</th>\n",
              "      <th>feature_9</th>\n",
              "      <th>duration_listed</th>\n",
              "    </tr>\n",
              "  </thead>\n",
              "  <tbody>\n",
              "    <tr>\n",
              "      <th>0</th>\n",
              "      <td>Subaru</td>\n",
              "      <td>Outback</td>\n",
              "      <td>automatic</td>\n",
              "      <td>silver</td>\n",
              "      <td>190000</td>\n",
              "      <td>2010</td>\n",
              "      <td>gasoline</td>\n",
              "      <td>False</td>\n",
              "      <td>gasoline</td>\n",
              "      <td>2.5</td>\n",
              "      <td>universal</td>\n",
              "      <td>False</td>\n",
              "      <td>owned</td>\n",
              "      <td>all</td>\n",
              "      <td>10900.00</td>\n",
              "      <td>False</td>\n",
              "      <td>Минская обл.</td>\n",
              "      <td>9</td>\n",
              "      <td>13</td>\n",
              "      <td>False</td>\n",
              "      <td>True</td>\n",
              "      <td>True</td>\n",
              "      <td>True</td>\n",
              "      <td>False</td>\n",
              "      <td>True</td>\n",
              "      <td>False</td>\n",
              "      <td>True</td>\n",
              "      <td>True</td>\n",
              "      <td>True</td>\n",
              "      <td>16</td>\n",
              "    </tr>\n",
              "    <tr>\n",
              "      <th>1</th>\n",
              "      <td>Subaru</td>\n",
              "      <td>Outback</td>\n",
              "      <td>automatic</td>\n",
              "      <td>blue</td>\n",
              "      <td>290000</td>\n",
              "      <td>2002</td>\n",
              "      <td>gasoline</td>\n",
              "      <td>False</td>\n",
              "      <td>gasoline</td>\n",
              "      <td>3.0</td>\n",
              "      <td>universal</td>\n",
              "      <td>False</td>\n",
              "      <td>owned</td>\n",
              "      <td>all</td>\n",
              "      <td>5000.00</td>\n",
              "      <td>True</td>\n",
              "      <td>Минская обл.</td>\n",
              "      <td>12</td>\n",
              "      <td>54</td>\n",
              "      <td>False</td>\n",
              "      <td>True</td>\n",
              "      <td>False</td>\n",
              "      <td>False</td>\n",
              "      <td>True</td>\n",
              "      <td>True</td>\n",
              "      <td>False</td>\n",
              "      <td>False</td>\n",
              "      <td>False</td>\n",
              "      <td>True</td>\n",
              "      <td>83</td>\n",
              "    </tr>\n",
              "    <tr>\n",
              "      <th>2</th>\n",
              "      <td>Subaru</td>\n",
              "      <td>Forester</td>\n",
              "      <td>automatic</td>\n",
              "      <td>red</td>\n",
              "      <td>402000</td>\n",
              "      <td>2001</td>\n",
              "      <td>gasoline</td>\n",
              "      <td>False</td>\n",
              "      <td>gasoline</td>\n",
              "      <td>2.5</td>\n",
              "      <td>suv</td>\n",
              "      <td>False</td>\n",
              "      <td>owned</td>\n",
              "      <td>all</td>\n",
              "      <td>2800.00</td>\n",
              "      <td>True</td>\n",
              "      <td>Минская обл.</td>\n",
              "      <td>4</td>\n",
              "      <td>72</td>\n",
              "      <td>False</td>\n",
              "      <td>True</td>\n",
              "      <td>False</td>\n",
              "      <td>False</td>\n",
              "      <td>False</td>\n",
              "      <td>False</td>\n",
              "      <td>False</td>\n",
              "      <td>False</td>\n",
              "      <td>True</td>\n",
              "      <td>True</td>\n",
              "      <td>151</td>\n",
              "    </tr>\n",
              "    <tr>\n",
              "      <th>3</th>\n",
              "      <td>Subaru</td>\n",
              "      <td>Impreza</td>\n",
              "      <td>mechanical</td>\n",
              "      <td>blue</td>\n",
              "      <td>10000</td>\n",
              "      <td>1999</td>\n",
              "      <td>gasoline</td>\n",
              "      <td>False</td>\n",
              "      <td>gasoline</td>\n",
              "      <td>3.0</td>\n",
              "      <td>sedan</td>\n",
              "      <td>False</td>\n",
              "      <td>owned</td>\n",
              "      <td>all</td>\n",
              "      <td>9999.00</td>\n",
              "      <td>True</td>\n",
              "      <td>Минская обл.</td>\n",
              "      <td>9</td>\n",
              "      <td>42</td>\n",
              "      <td>True</td>\n",
              "      <td>False</td>\n",
              "      <td>False</td>\n",
              "      <td>False</td>\n",
              "      <td>False</td>\n",
              "      <td>False</td>\n",
              "      <td>False</td>\n",
              "      <td>False</td>\n",
              "      <td>False</td>\n",
              "      <td>False</td>\n",
              "      <td>86</td>\n",
              "    </tr>\n",
              "    <tr>\n",
              "      <th>4</th>\n",
              "      <td>Subaru</td>\n",
              "      <td>Legacy</td>\n",
              "      <td>automatic</td>\n",
              "      <td>black</td>\n",
              "      <td>280000</td>\n",
              "      <td>2001</td>\n",
              "      <td>gasoline</td>\n",
              "      <td>False</td>\n",
              "      <td>gasoline</td>\n",
              "      <td>2.5</td>\n",
              "      <td>universal</td>\n",
              "      <td>False</td>\n",
              "      <td>owned</td>\n",
              "      <td>all</td>\n",
              "      <td>2134.11</td>\n",
              "      <td>True</td>\n",
              "      <td>Гомельская обл.</td>\n",
              "      <td>14</td>\n",
              "      <td>7</td>\n",
              "      <td>False</td>\n",
              "      <td>True</td>\n",
              "      <td>False</td>\n",
              "      <td>True</td>\n",
              "      <td>True</td>\n",
              "      <td>False</td>\n",
              "      <td>False</td>\n",
              "      <td>False</td>\n",
              "      <td>False</td>\n",
              "      <td>True</td>\n",
              "      <td>7</td>\n",
              "    </tr>\n",
              "  </tbody>\n",
              "</table>\n",
              "</div>"
            ],
            "text/plain": [
              "  manufacturer_name model_name  ... feature_9 duration_listed\n",
              "0            Subaru    Outback  ...      True              16\n",
              "1            Subaru    Outback  ...      True              83\n",
              "2            Subaru   Forester  ...      True             151\n",
              "3            Subaru    Impreza  ...     False              86\n",
              "4            Subaru     Legacy  ...      True               7\n",
              "\n",
              "[5 rows x 30 columns]"
            ]
          },
          "metadata": {
            "tags": []
          },
          "execution_count": 134
        }
      ]
    },
    {
      "cell_type": "code",
      "metadata": {
        "colab": {
          "base_uri": "https://localhost:8080/"
        },
        "id": "cDU6ER3edBzk",
        "outputId": "773e0ccb-9a34-4bc1-c94d-0e58808aba6c"
      },
      "source": [
        "data2 =df['duration_listed'].value_counts(ascending=False)\n",
        "data2.head(10)"
      ],
      "execution_count": null,
      "outputs": [
        {
          "output_type": "execute_result",
          "data": {
            "text/plain": [
              "57    680\n",
              "1     653\n",
              "2     642\n",
              "3     553\n",
              "91    536\n",
              "32    533\n",
              "61    523\n",
              "60    517\n",
              "11    503\n",
              "4     473\n",
              "Name: duration_listed, dtype: int64"
            ]
          },
          "metadata": {
            "tags": []
          },
          "execution_count": 135
        }
      ]
    },
    {
      "cell_type": "markdown",
      "metadata": {
        "id": "sOxVlzqad1dM"
      },
      "source": [
        "duration listed car is the number of days the car is listed in the catalog"
      ]
    },
    {
      "cell_type": "code",
      "metadata": {
        "colab": {
          "base_uri": "https://localhost:8080/"
        },
        "id": "Zz1u00KxeCc0",
        "outputId": "7933b8f1-a275-4303-eb12-d10c717ad613"
      },
      "source": [
        "duration = df.groupby(\"manufacturer_name\").duration_listed.mean().sort_values(ascending = False) \n",
        "duration.index"
      ],
      "execution_count": null,
      "outputs": [
        {
          "output_type": "execute_result",
          "data": {
            "text/plain": [
              "Index(['Lincoln', 'Москвич', 'ЗАЗ', 'Acura', 'Jaguar', 'Lancia', 'Jeep', 'ГАЗ',\n",
              "       'Mini', 'Cadillac', 'Porsche', 'Saab', 'Geely', 'Chery', 'Suzuki',\n",
              "       'Subaru', 'Great Wall', 'УАЗ', 'Mercedes-Benz', 'Iveco', 'Chrysler',\n",
              "       'Alfa Romeo', 'Buick', 'Land Rover', 'Pontiac', 'BMW', 'Fiat', 'Lexus',\n",
              "       'Volvo', 'SsangYong', 'Toyota', 'Infiniti', 'Audi', 'Chevrolet',\n",
              "       'Dodge', 'Mitsubishi', 'Nissan', 'Ford', 'Hyundai', 'ВАЗ', 'Volkswagen',\n",
              "       'Kia', 'Opel', 'Daewoo', 'Honda', 'Citroen', 'Peugeot', 'Mazda',\n",
              "       'Renault', 'Lifan', 'Rover', 'Seat', 'Dacia', 'LADA', 'Skoda'],\n",
              "      dtype='object', name='manufacturer_name')"
            ]
          },
          "metadata": {
            "tags": []
          },
          "execution_count": 136
        }
      ]
    },
    {
      "cell_type": "markdown",
      "metadata": {
        "id": "7cqdkAU8gQOR"
      },
      "source": [
        "we create the new series of based on duration of the listed car in the catalog. Since there are many car with different listed duration each, then we take the average of listed car based on the brand. In other words, we create index in the brand of car and the values is the average of listed car."
      ]
    },
    {
      "cell_type": "code",
      "metadata": {
        "colab": {
          "base_uri": "https://localhost:8080/",
          "height": 701
        },
        "id": "u3IlpmIzf8HF",
        "outputId": "36d8a6a4-99c2-4024-db8a-3f0632ddf1c8"
      },
      "source": [
        "fig, ax = plt.subplots(figsize=(16,10)) \n",
        "sns.barplot(duration.index, duration.values)\n",
        "plt.xticks(rotation=90)\n",
        "plt.title(' Average duration listed of the car ')\n",
        "plt.show()"
      ],
      "execution_count": null,
      "outputs": [
        {
          "output_type": "display_data",
          "data": {
            "image/png": "[encoded data removed]",
            "text/plain": [
              "<Figure size 1152x720 with 1 Axes>"
            ]
          },
          "metadata": {
            "tags": []
          }
        }
      ]
    },
    {
      "cell_type": "markdown",
      "metadata": {
        "id": "37ycirLtk7CZ"
      },
      "source": [
        "The car with brand **Lincoln** will most likely will **take a long time to be resell** since averagely it takes more than **200 days** to sell followed by Москвич russian car which it takes more than 150 days to resell. "
      ]
    },
    {
      "cell_type": "code",
      "metadata": {
        "colab": {
          "base_uri": "https://localhost:8080/",
          "height": 330
        },
        "id": "XoHYQNANhByK",
        "outputId": "98784738-9218-4305-e9e8-18b0205f8176"
      },
      "source": [
        "fig, ax = plt.subplots(figsize=(20,10)) \n",
        "plt.subplot(2,2,1)\n",
        "plt.title('Top 5 high duration listed  ')\n",
        "sns.barplot(duration[:5].index, duration[:5].values)\n",
        "\n",
        "plt.subplot(2,2,2)\n",
        "plt.title('Top 5 low duration listed  ')\n",
        "sns.barplot(duration[-5:].index, duration[-5:].sort_values())\n",
        "\n",
        "plt.show()"
      ],
      "execution_count": null,
      "outputs": [
        {
          "output_type": "display_data",
          "data": {
            "image/png": "[encoded data removed]",
            "text/plain": [
              "<Figure size 1440x720 with 2 Axes>"
            ]
          },
          "metadata": {
            "tags": []
          }
        }
      ]
    },
    {
      "cell_type": "markdown",
      "metadata": {
        "id": "a-Juq3zclhTP"
      },
      "source": [
        "The used car that most likely to be resell faster is brand **Rover and Seat**.\n",
        "Both of these cars will averagely **take less than 2 months to be resell** again followed by **Dacia, LADA, Skoda** which take **not more than 70 days** to be resell"
      ]
    },
    {
      "cell_type": "markdown",
      "metadata": {
        "id": "3iCt1UD5CCU4"
      },
      "source": [
        "So if someone that has car with brand Rover most likely it will be sell faster and the brand Lincoln will take a long time to be resell"
      ]
    },
    {
      "cell_type": "markdown",
      "metadata": {
        "id": "aW9aOlyHqwEk"
      },
      "source": [
        "# Question 4"
      ]
    },
    {
      "cell_type": "markdown",
      "metadata": {
        "id": "7a7mj-kXCehT"
      },
      "source": [
        "**if someone want to know which car to buy for long term investment, which car brand has the highest resell values?**"
      ]
    },
    {
      "cell_type": "code",
      "metadata": {
        "id": "eV2tOqPvq1Rl"
      },
      "source": [
        "prize = df.groupby(\"manufacturer_name\").price_usd.mean().sort_values(ascending = False) # put the car that has high average value to new dataframe"
      ],
      "execution_count": null,
      "outputs": []
    },
    {
      "cell_type": "code",
      "metadata": {
        "colab": {
          "base_uri": "https://localhost:8080/"
        },
        "id": "8_3C5AgCrPn7",
        "outputId": "cd86bf4d-d622-4d8b-d0c6-1bd00b1ae55c"
      },
      "source": [
        "prize.head()"
      ],
      "execution_count": null,
      "outputs": [
        {
          "output_type": "execute_result",
          "data": {
            "text/plain": [
              "manufacturer_name\n",
              "Porsche       18629.823770\n",
              "Jaguar        17813.000000\n",
              "Lexus         17130.560845\n",
              "Land Rover    15195.300380\n",
              "Skoda         13795.448466\n",
              "Name: price_usd, dtype: float64"
            ]
          },
          "metadata": {
            "tags": []
          },
          "execution_count": 140
        }
      ]
    },
    {
      "cell_type": "code",
      "metadata": {
        "colab": {
          "base_uri": "https://localhost:8080/",
          "height": 679
        },
        "id": "EgAcmmq8q_KL",
        "outputId": "99d60065-3a8d-43e9-beed-0536a7334eb9"
      },
      "source": [
        "fig, ax = plt.subplots(figsize=(16,10)) \n",
        "sns.barplot(prize[:10].index, prize[:10].values)\n",
        "plt.xticks(rotation=90)\n",
        "plt.title(' Average resell price of the car ')\n",
        "plt.show()"
      ],
      "execution_count": null,
      "outputs": [
        {
          "output_type": "display_data",
          "data": {
            "image/png": "[encoded data removed]",
            "text/plain": [
              "<Figure size 1152x720 with 1 Axes>"
            ]
          },
          "metadata": {
            "tags": []
          }
        }
      ]
    },
    {
      "cell_type": "markdown",
      "metadata": {
        "id": "cgGMb3riCrkS"
      },
      "source": [
        "Look like brand **Porsche , Jaguar and Lexus** have  **high resell values** compared to any other brand "
      ]
    },
    {
      "cell_type": "markdown",
      "metadata": {
        "id": "Xr3i3Ms5C-Up"
      },
      "source": [
        "What make are some other features that make this car has high resell values?"
      ]
    },
    {
      "cell_type": "code",
      "metadata": {
        "colab": {
          "base_uri": "https://localhost:8080/"
        },
        "id": "rn3TYok-5mGS",
        "outputId": "10df8abc-da18-44e0-873b-f46f6f075d29"
      },
      "source": [
        "a=[] # taking name of top price car and put into the list\n",
        "for x in range(10):    \n",
        "    a.append(prize.index[x])\n",
        "print(a)"
      ],
      "execution_count": null,
      "outputs": [
        {
          "output_type": "stream",
          "text": [
            "['Porsche', 'Jaguar', 'Lexus', 'Land Rover', 'Skoda', 'Infiniti', 'Mini', 'Buick', 'Acura', 'Cadillac']\n"
          ],
          "name": "stdout"
        }
      ]
    },
    {
      "cell_type": "code",
      "metadata": {
        "id": "izBOypeQyydR"
      },
      "source": [
        "# getporshe = df[(df['manufacturer_name']=='Porsche') | (df['manufacturer_name']=='Jaguar') | (df['manufacturer_name']=='Lexus') | (df['manufacturer_name']=='Land Rover') | (df['manufacturer_name']=='Skoda')]\n",
        "top_price_car = df[df['manufacturer_name'].isin(a)] # take the top 10 high resell value car to new dataframe\n",
        "# top_price_car.head()"
      ],
      "execution_count": null,
      "outputs": []
    },
    {
      "cell_type": "markdown",
      "metadata": {
        "id": "xsJTM_xsDlNL"
      },
      "source": [
        "why dont we plot scatter plot with certain features that could influence this high resell value car."
      ]
    },
    {
      "cell_type": "code",
      "metadata": {
        "colab": {
          "base_uri": "https://localhost:8080/",
          "height": 604
        },
        "id": "cI52Z_IdwaCi",
        "outputId": "ce00a435-b537-4e0f-ddcf-e615b7720e49"
      },
      "source": [
        "fig, ax = plt.subplots(figsize=(20,10)) \n",
        "# sns.scatterplot(x= top_price_car.manufacturer_name, y= top_price_car.price_usd)\n",
        "plt.subplot(1,2,1)\n",
        "sns.scatterplot(x= \"manufacturer_name\", y= \"price_usd\",hue='transmission', data= top_price_car)\n",
        "\n",
        "plt.subplot(1,2,2)\n",
        "sns.scatterplot(x= \"manufacturer_name\", y= \"price_usd\",hue='body_type', data= top_price_car)\n",
        "plt.show()"
      ],
      "execution_count": null,
      "outputs": [
        {
          "output_type": "display_data",
          "data": {
            "image/png": "[encoded data removed]",
            "text/plain": [
              "<Figure size 1440x720 with 2 Axes>"
            ]
          },
          "metadata": {
            "tags": []
          }
        }
      ]
    },
    {
      "cell_type": "markdown",
      "metadata": {
        "id": "Tl4sbZJJDvrp"
      },
      "source": [
        "Look like the car with automatic transmission quite popular wheras SUV and Sedan influence the most to the resell price"
      ]
    },
    {
      "cell_type": "markdown",
      "metadata": {
        "id": "Wf81BzjsIzjO"
      },
      "source": [
        "# Question 5"
      ]
    },
    {
      "cell_type": "markdown",
      "metadata": {
        "id": "Og8L__FzLcvd"
      },
      "source": [
        "**Can we predict the price of car with certain features available?**"
      ]
    },
    {
      "cell_type": "markdown",
      "metadata": {
        "id": "lM6xQsoYMAO_"
      },
      "source": [
        "So why dont we take several columns for the features of our model "
      ]
    },
    {
      "cell_type": "code",
      "metadata": {
        "colab": {
          "base_uri": "https://localhost:8080/",
          "height": 204
        },
        "id": "CBAJfGxkME5E",
        "outputId": "ffd1cc6f-2ac3-44e3-8e05-4c51b47a5ea0"
      },
      "source": [
        "df_new = df[['manufacturer_name', 'model_name', 'transmission', 'color', 'odometer_value', 'year_produced', 'engine_capacity', 'has_warranty', 'price_usd', 'duration_listed']]\n",
        "df_new.head()"
      ],
      "execution_count": null,
      "outputs": [
        {
          "output_type": "execute_result",
          "data": {
            "text/html": [
              "<div>\n",
              "<style scoped>\n",
              "    .dataframe tbody tr th:only-of-type {\n",
              "        vertical-align: middle;\n",
              "    }\n",
              "\n",
              "    .dataframe tbody tr th {\n",
              "        vertical-align: top;\n",
              "    }\n",
              "\n",
              "    .dataframe thead th {\n",
              "        text-align: right;\n",
              "    }\n",
              "</style>\n",
              "<table border=\"1\" class=\"dataframe\">\n",
              "  <thead>\n",
              "    <tr style=\"text-align: right;\">\n",
              "      <th></th>\n",
              "      <th>manufacturer_name</th>\n",
              "      <th>model_name</th>\n",
              "      <th>transmission</th>\n",
              "      <th>color</th>\n",
              "      <th>odometer_value</th>\n",
              "      <th>year_produced</th>\n",
              "      <th>engine_capacity</th>\n",
              "      <th>has_warranty</th>\n",
              "      <th>price_usd</th>\n",
              "      <th>duration_listed</th>\n",
              "    </tr>\n",
              "  </thead>\n",
              "  <tbody>\n",
              "    <tr>\n",
              "      <th>0</th>\n",
              "      <td>Subaru</td>\n",
              "      <td>Outback</td>\n",
              "      <td>automatic</td>\n",
              "      <td>silver</td>\n",
              "      <td>190000</td>\n",
              "      <td>2010</td>\n",
              "      <td>2.5</td>\n",
              "      <td>False</td>\n",
              "      <td>10900.00</td>\n",
              "      <td>16</td>\n",
              "    </tr>\n",
              "    <tr>\n",
              "      <th>1</th>\n",
              "      <td>Subaru</td>\n",
              "      <td>Outback</td>\n",
              "      <td>automatic</td>\n",
              "      <td>blue</td>\n",
              "      <td>290000</td>\n",
              "      <td>2002</td>\n",
              "      <td>3.0</td>\n",
              "      <td>False</td>\n",
              "      <td>5000.00</td>\n",
              "      <td>83</td>\n",
              "    </tr>\n",
              "    <tr>\n",
              "      <th>2</th>\n",
              "      <td>Subaru</td>\n",
              "      <td>Forester</td>\n",
              "      <td>automatic</td>\n",
              "      <td>red</td>\n",
              "      <td>402000</td>\n",
              "      <td>2001</td>\n",
              "      <td>2.5</td>\n",
              "      <td>False</td>\n",
              "      <td>2800.00</td>\n",
              "      <td>151</td>\n",
              "    </tr>\n",
              "    <tr>\n",
              "      <th>3</th>\n",
              "      <td>Subaru</td>\n",
              "      <td>Impreza</td>\n",
              "      <td>mechanical</td>\n",
              "      <td>blue</td>\n",
              "      <td>10000</td>\n",
              "      <td>1999</td>\n",
              "      <td>3.0</td>\n",
              "      <td>False</td>\n",
              "      <td>9999.00</td>\n",
              "      <td>86</td>\n",
              "    </tr>\n",
              "    <tr>\n",
              "      <th>4</th>\n",
              "      <td>Subaru</td>\n",
              "      <td>Legacy</td>\n",
              "      <td>automatic</td>\n",
              "      <td>black</td>\n",
              "      <td>280000</td>\n",
              "      <td>2001</td>\n",
              "      <td>2.5</td>\n",
              "      <td>False</td>\n",
              "      <td>2134.11</td>\n",
              "      <td>7</td>\n",
              "    </tr>\n",
              "  </tbody>\n",
              "</table>\n",
              "</div>"
            ],
            "text/plain": [
              "  manufacturer_name model_name  ... price_usd duration_listed\n",
              "0            Subaru    Outback  ...  10900.00              16\n",
              "1            Subaru    Outback  ...   5000.00              83\n",
              "2            Subaru   Forester  ...   2800.00             151\n",
              "3            Subaru    Impreza  ...   9999.00              86\n",
              "4            Subaru     Legacy  ...   2134.11               7\n",
              "\n",
              "[5 rows x 10 columns]"
            ]
          },
          "metadata": {
            "tags": []
          },
          "execution_count": 145
        }
      ]
    },
    {
      "cell_type": "code",
      "metadata": {
        "colab": {
          "base_uri": "https://localhost:8080/"
        },
        "id": "2KztfRkMPEW4",
        "outputId": "58284fb1-c881-4cef-a3cd-28b34395fff7"
      },
      "source": [
        "train0=df_new\n",
        "train0.shape"
      ],
      "execution_count": null,
      "outputs": [
        {
          "output_type": "execute_result",
          "data": {
            "text/plain": [
              "(38521, 10)"
            ]
          },
          "metadata": {
            "tags": []
          },
          "execution_count": 146
        }
      ]
    },
    {
      "cell_type": "code",
      "metadata": {
        "id": "Y5IXjqQ5PSb7"
      },
      "source": [
        "from sklearn.preprocessing import LabelEncoder,StandardScaler\n",
        "from sklearn.model_selection import train_test_split\n",
        "from sklearn import preprocessing\n",
        "le = preprocessing.LabelEncoder() #"
      ],
      "execution_count": null,
      "outputs": []
    },
    {
      "cell_type": "code",
      "metadata": {
        "id": "PC90Lc94PBbs"
      },
      "source": [
        "# numerics = ['int8', 'int16', 'int32', 'int64']#, 'float16', 'float32', 'float64'\n",
        "# categorical_columns = []\n",
        "# features = train0.columns.values.tolist()\n",
        "# for col in features:\n",
        "#     if train0[col].dtype in numerics: continue\n",
        "#     categorical_columns.append(col)\n",
        "# # Encoding categorical features\n",
        "# for col in categorical_columns:\n",
        "#     if col in train0.columns:\n",
        "#         le = LabelEncoder()\n",
        "#         le.fit(list(train0[col].astype(str).values))\n",
        "#         train0[col] = le.transform(list(train0[col].astype(str).values))"
      ],
      "execution_count": null,
      "outputs": []
    },
    {
      "cell_type": "code",
      "metadata": {
        "id": "j5TeqYjgWhZU"
      },
      "source": [
        "# train0['price_usd'] = train0['price_usd'].astype(int)"
      ],
      "execution_count": null,
      "outputs": []
    },
    {
      "cell_type": "code",
      "metadata": {
        "id": "tYq4JnrXOK8j"
      },
      "source": [
        "\n",
        "# scaler = StandardScaler()\n",
        "# train0 = pd.DataFrame(scaler.fit_transform(df_new), columns = df_new.columns)\n",
        "# train0.head()"
      ],
      "execution_count": null,
      "outputs": []
    },
    {
      "cell_type": "code",
      "metadata": {
        "id": "z3e76NgRZID5"
      },
      "source": [
        "train0=train0.apply(le.fit_transform) # since computer/ml doesn't understand string so we convert any string to numeric variables"
      ],
      "execution_count": null,
      "outputs": []
    },
    {
      "cell_type": "code",
      "metadata": {
        "id": "kDSwff9cPozo"
      },
      "source": [
        "target_name = 'price_usd' \n",
        "y = train0[target_name] # the target is price\n",
        "x = train0.drop([target_name], axis=1) #splitting features and label(=price)"
      ],
      "execution_count": null,
      "outputs": []
    },
    {
      "cell_type": "code",
      "metadata": {
        "id": "1RcRRUJ_QJo4"
      },
      "source": [
        "# train0, test0, train_target0, test_target0 = train_test_split(train0, train_target0, test_size=0.2, random_state=0)\n",
        "X_train, X_test, y_train, y_test = train_test_split(x, y, test_size=0.2, random_state=42) #split test train into 80%train 20%test"
      ],
      "execution_count": null,
      "outputs": []
    },
    {
      "cell_type": "code",
      "metadata": {
        "colab": {
          "base_uri": "https://localhost:8080/"
        },
        "id": "OUsy-by1Tex2",
        "outputId": "15298c2f-1dfe-42bd-9bf0-86a3a11bc5e6"
      },
      "source": [
        "print (X_train.shape, y_train.shape)\n",
        "print (X_test.shape, y_test.shape)"
      ],
      "execution_count": null,
      "outputs": [
        {
          "output_type": "stream",
          "text": [
            "(30816, 9) (30816,)\n",
            "(7705, 9) (7705,)\n"
          ],
          "name": "stdout"
        }
      ]
    },
    {
      "cell_type": "code",
      "metadata": {
        "colab": {
          "base_uri": "https://localhost:8080/",
          "height": 204
        },
        "id": "9218RIggZbzg",
        "outputId": "00e8e2b2-10c6-4aaf-ab79-80eb07f7cf55"
      },
      "source": [
        "x.head() #look like everything is in numeric"
      ],
      "execution_count": null,
      "outputs": [
        {
          "output_type": "execute_result",
          "data": {
            "text/html": [
              "<div>\n",
              "<style scoped>\n",
              "    .dataframe tbody tr th:only-of-type {\n",
              "        vertical-align: middle;\n",
              "    }\n",
              "\n",
              "    .dataframe tbody tr th {\n",
              "        vertical-align: top;\n",
              "    }\n",
              "\n",
              "    .dataframe thead th {\n",
              "        text-align: right;\n",
              "    }\n",
              "</style>\n",
              "<table border=\"1\" class=\"dataframe\">\n",
              "  <thead>\n",
              "    <tr style=\"text-align: right;\">\n",
              "      <th></th>\n",
              "      <th>manufacturer_name</th>\n",
              "      <th>model_name</th>\n",
              "      <th>transmission</th>\n",
              "      <th>color</th>\n",
              "      <th>odometer_value</th>\n",
              "      <th>year_produced</th>\n",
              "      <th>engine_capacity</th>\n",
              "      <th>has_warranty</th>\n",
              "      <th>duration_listed</th>\n",
              "    </tr>\n",
              "  </thead>\n",
              "  <tbody>\n",
              "    <tr>\n",
              "      <th>0</th>\n",
              "      <td>45</td>\n",
              "      <td>763</td>\n",
              "      <td>0</td>\n",
              "      <td>8</td>\n",
              "      <td>2447</td>\n",
              "      <td>54</td>\n",
              "      <td>19</td>\n",
              "      <td>0</td>\n",
              "      <td>16</td>\n",
              "    </tr>\n",
              "    <tr>\n",
              "      <th>1</th>\n",
              "      <td>45</td>\n",
              "      <td>763</td>\n",
              "      <td>0</td>\n",
              "      <td>1</td>\n",
              "      <td>3953</td>\n",
              "      <td>46</td>\n",
              "      <td>24</td>\n",
              "      <td>0</td>\n",
              "      <td>83</td>\n",
              "    </tr>\n",
              "    <tr>\n",
              "      <th>2</th>\n",
              "      <td>45</td>\n",
              "      <td>519</td>\n",
              "      <td>0</td>\n",
              "      <td>7</td>\n",
              "      <td>5333</td>\n",
              "      <td>45</td>\n",
              "      <td>19</td>\n",
              "      <td>0</td>\n",
              "      <td>151</td>\n",
              "    </tr>\n",
              "    <tr>\n",
              "      <th>3</th>\n",
              "      <td>45</td>\n",
              "      <td>609</td>\n",
              "      <td>1</td>\n",
              "      <td>1</td>\n",
              "      <td>236</td>\n",
              "      <td>43</td>\n",
              "      <td>24</td>\n",
              "      <td>0</td>\n",
              "      <td>86</td>\n",
              "    </tr>\n",
              "    <tr>\n",
              "      <th>4</th>\n",
              "      <td>45</td>\n",
              "      <td>664</td>\n",
              "      <td>0</td>\n",
              "      <td>0</td>\n",
              "      <td>3794</td>\n",
              "      <td>45</td>\n",
              "      <td>19</td>\n",
              "      <td>0</td>\n",
              "      <td>7</td>\n",
              "    </tr>\n",
              "  </tbody>\n",
              "</table>\n",
              "</div>"
            ],
            "text/plain": [
              "   manufacturer_name  model_name  ...  has_warranty  duration_listed\n",
              "0                 45         763  ...             0               16\n",
              "1                 45         763  ...             0               83\n",
              "2                 45         519  ...             0              151\n",
              "3                 45         609  ...             0               86\n",
              "4                 45         664  ...             0                7\n",
              "\n",
              "[5 rows x 9 columns]"
            ]
          },
          "metadata": {
            "tags": []
          },
          "execution_count": 155
        }
      ]
    },
    {
      "cell_type": "markdown",
      "metadata": {
        "id": "faWMfZkHJy_8"
      },
      "source": [
        "look like everything are all in numeric values, then we can proceed with the implementation of machine learning algorithm"
      ]
    },
    {
      "cell_type": "markdown",
      "metadata": {
        "id": "nBMC0DwFJ9-l"
      },
      "source": [
        "Using Random Forest Regression to predict the price. Since our target is continous (price) using regression model is significant "
      ]
    },
    {
      "cell_type": "code",
      "metadata": {
        "id": "rcsTnOicYs0O"
      },
      "source": [
        "#importing rf\n",
        "from sklearn.ensemble import RandomForestRegressor,RandomForestClassifier\n",
        "\n",
        "regressor = RandomForestRegressor(n_estimators=30, random_state=0)\n",
        "regressor.fit(X_train, y_train)\n",
        "y_pred = regressor.predict(X_test)"
      ],
      "execution_count": null,
      "outputs": []
    },
    {
      "cell_type": "code",
      "metadata": {
        "colab": {
          "base_uri": "https://localhost:8080/"
        },
        "id": "yeXgfr69aE7F",
        "outputId": "5a119bab-8b7f-4d55-c28f-116c845e1f4a"
      },
      "source": [
        "#importing metric module for evaluation\n",
        "from sklearn import metrics\n",
        "from sklearn.metrics import mean_squared_error as MSE\n",
        "print('Mean Absolute Error:', round(metrics.mean_absolute_error(y_test, y_pred),2))\n",
        "print('Mean Squared Error:', round(metrics.mean_squared_error(y_test, y_pred),2))\n",
        "print('Root Mean Squared Error:', round(np.sqrt(metrics.mean_squared_error(y_test, y_pred)),2))\n",
        "print(regressor.score(X_test,y_test)*100)"
      ],
      "execution_count": null,
      "outputs": [
        {
          "output_type": "stream",
          "text": [
            "Mean Absolute Error: 113.47\n",
            "Mean Squared Error: 24998.54\n",
            "Root Mean Squared Error: 158.11\n",
            "91.72092296637284\n"
          ],
          "name": "stdout"
        }
      ]
    },
    {
      "cell_type": "markdown",
      "metadata": {
        "id": "7N2mFFLgKQFd"
      },
      "source": [
        "The regression **score** for the model is **91.72** which quite impressive score for the model!"
      ]
    },
    {
      "cell_type": "markdown",
      "metadata": {
        "id": "P2YwrbY1pEE0"
      },
      "source": [
        "It must be noted that this prediction of price based on the features:\n",
        "*    manufacturer_name\n",
        "*    model_name\t\n",
        "*    transmission\t\n",
        "*    color\todometer_value\t\n",
        "*    year_produced\t\n",
        "*    engine_capacity\t\n",
        "*    has_warranty\t\n",
        "*    duration_listed"
      ]
    },
    {
      "cell_type": "code",
      "metadata": {
        "colab": {
          "base_uri": "https://localhost:8080/",
          "height": 204
        },
        "id": "__RUtc9oFxRE",
        "outputId": "19c4d7df-d886-4631-c63e-baa118fdad98"
      },
      "source": [
        "new_pred = pd.DataFrame(y_pred, columns=[\"prediction_price\"]) #creating dataframe for prediction price\n",
        "new_pred.head()"
      ],
      "execution_count": null,
      "outputs": [
        {
          "output_type": "execute_result",
          "data": {
            "text/html": [
              "<div>\n",
              "<style scoped>\n",
              "    .dataframe tbody tr th:only-of-type {\n",
              "        vertical-align: middle;\n",
              "    }\n",
              "\n",
              "    .dataframe tbody tr th {\n",
              "        vertical-align: top;\n",
              "    }\n",
              "\n",
              "    .dataframe thead th {\n",
              "        text-align: right;\n",
              "    }\n",
              "</style>\n",
              "<table border=\"1\" class=\"dataframe\">\n",
              "  <thead>\n",
              "    <tr style=\"text-align: right;\">\n",
              "      <th></th>\n",
              "      <th>prediction_price</th>\n",
              "    </tr>\n",
              "  </thead>\n",
              "  <tbody>\n",
              "    <tr>\n",
              "      <th>0</th>\n",
              "      <td>1219.166667</td>\n",
              "    </tr>\n",
              "    <tr>\n",
              "      <th>1</th>\n",
              "      <td>424.100000</td>\n",
              "    </tr>\n",
              "    <tr>\n",
              "      <th>2</th>\n",
              "      <td>2513.200000</td>\n",
              "    </tr>\n",
              "    <tr>\n",
              "      <th>3</th>\n",
              "      <td>888.333333</td>\n",
              "    </tr>\n",
              "    <tr>\n",
              "      <th>4</th>\n",
              "      <td>1783.066667</td>\n",
              "    </tr>\n",
              "  </tbody>\n",
              "</table>\n",
              "</div>"
            ],
            "text/plain": [
              "   prediction_price\n",
              "0       1219.166667\n",
              "1        424.100000\n",
              "2       2513.200000\n",
              "3        888.333333\n",
              "4       1783.066667"
            ]
          },
          "metadata": {
            "tags": []
          },
          "execution_count": 158
        }
      ]
    },
    {
      "cell_type": "code",
      "metadata": {
        "colab": {
          "base_uri": "https://localhost:8080/",
          "height": 204
        },
        "id": "8L04j1hOGFUN",
        "outputId": "514a1aec-ae68-4c2e-bf40-edc5859c2377"
      },
      "source": [
        "y_test.reset_index(drop=True, inplace=True) #if both has different index the concatation later on will generate different value such NAN\n",
        "new_pred.reset_index(drop=True, inplace=True)\n",
        "\n",
        "pred_and_actual = pd.concat([y_test, new_pred],axis=1) #concat predicted and actual\n",
        "pred_and_actual.rename(columns={'price_usd': 'actual_price'}, inplace=True)\n",
        "pred_and_actual.head()"
      ],
      "execution_count": null,
      "outputs": [
        {
          "output_type": "execute_result",
          "data": {
            "text/html": [
              "<div>\n",
              "<style scoped>\n",
              "    .dataframe tbody tr th:only-of-type {\n",
              "        vertical-align: middle;\n",
              "    }\n",
              "\n",
              "    .dataframe tbody tr th {\n",
              "        vertical-align: top;\n",
              "    }\n",
              "\n",
              "    .dataframe thead th {\n",
              "        text-align: right;\n",
              "    }\n",
              "</style>\n",
              "<table border=\"1\" class=\"dataframe\">\n",
              "  <thead>\n",
              "    <tr style=\"text-align: right;\">\n",
              "      <th></th>\n",
              "      <th>actual_price</th>\n",
              "      <th>prediction_price</th>\n",
              "    </tr>\n",
              "  </thead>\n",
              "  <tbody>\n",
              "    <tr>\n",
              "      <th>0</th>\n",
              "      <td>1150</td>\n",
              "      <td>1219.166667</td>\n",
              "    </tr>\n",
              "    <tr>\n",
              "      <th>1</th>\n",
              "      <td>264</td>\n",
              "      <td>424.100000</td>\n",
              "    </tr>\n",
              "    <tr>\n",
              "      <th>2</th>\n",
              "      <td>2404</td>\n",
              "      <td>2513.200000</td>\n",
              "    </tr>\n",
              "    <tr>\n",
              "      <th>3</th>\n",
              "      <td>864</td>\n",
              "      <td>888.333333</td>\n",
              "    </tr>\n",
              "    <tr>\n",
              "      <th>4</th>\n",
              "      <td>1885</td>\n",
              "      <td>1783.066667</td>\n",
              "    </tr>\n",
              "  </tbody>\n",
              "</table>\n",
              "</div>"
            ],
            "text/plain": [
              "   actual_price  prediction_price\n",
              "0          1150       1219.166667\n",
              "1           264        424.100000\n",
              "2          2404       2513.200000\n",
              "3           864        888.333333\n",
              "4          1885       1783.066667"
            ]
          },
          "metadata": {
            "tags": []
          },
          "execution_count": 159
        }
      ]
    },
    {
      "cell_type": "code",
      "metadata": {
        "colab": {
          "base_uri": "https://localhost:8080/",
          "height": 609
        },
        "id": "WisZtzaACpgX",
        "outputId": "ce5f86c8-eebc-4a32-c9da-97bd09d0bf6b"
      },
      "source": [
        "fig, ax = plt.subplots(figsize=(20,10)) \n",
        "sns.scatterplot(data=pred_and_actual.sample(100))# take 100 sample if we take all the plot will be messy\n",
        "plt.title('scatter plot between prediction and actual values')\n",
        "plt.show()"
      ],
      "execution_count": null,
      "outputs": [
        {
          "output_type": "display_data",
          "data": {
            "image/png": "[encoded data removed]",
            "text/plain": [
              "<Figure size 1440x720 with 1 Axes>"
            ]
          },
          "metadata": {
            "tags": []
          }
        }
      ]
    },
    {
      "cell_type": "markdown",
      "metadata": {
        "id": "NCAcRMonLZz9"
      },
      "source": [
        "From scatter plot above , we can see the comparison between  prediction and actual values for the regression model. \n"
      ]
    },
    {
      "cell_type": "markdown",
      "metadata": {
        "id": "-9aicpNbLncz"
      },
      "source": [
        "***References***\n",
        "\n",
        "---\n",
        "\n",
        "\n",
        "The data is scraped in Belarus (western Europe) on the 2nd of December 2019, so the dataset is pretty fresh and relevant\n",
        "*   https://www.kaggle.com/lepchenkov/usedcarscatalog\n",
        "*   https://towardsdatascience.com/the-six-types-of-data-analysis-75517ba7ea61\n",
        "*   https://medium.com/swlh/random-forest-and-its-implementation-71824ced454f\n",
        "*   https://scikit-learn.org/stable/modules/generated/sklearn.ensemble.RandomForestRegressor.html\n",
        "*   https://towardsdatascience.com/exploratory-data-analysis-8fc1cb20fd15\n",
        "*   List item\n",
        "\n",
        "\n",
        "\n",
        "\n"
      ]
    }
  ]
}
